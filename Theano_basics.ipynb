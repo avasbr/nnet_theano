{
 "metadata": {
  "name": "",
  "signature": "sha256:50cc72c88318ad04427fe37f623fb695af6672f477a06ab78b43e2cc6e6274b6"
 },
 "nbformat": 3,
 "nbformat_minor": 0,
 "worksheets": [
  {
   "cells": [
    {
     "cell_type": "code",
     "collapsed": false,
     "input": [
      "# Material taken directly from theano tutorial"
     ],
     "language": "python",
     "metadata": {},
     "outputs": [],
     "prompt_number": 1
    },
    {
     "cell_type": "code",
     "collapsed": false,
     "input": [
      "import theano.tensor as T\n",
      "from theano import function, Param, shared"
     ],
     "language": "python",
     "metadata": {},
     "outputs": [],
     "prompt_number": 14
    },
    {
     "cell_type": "code",
     "collapsed": false,
     "input": [
      "# Adding two scalars\n",
      "x = T.dscalar('x')\n",
      "y = T.dscalar('y')\n",
      "z = x + y\n",
      "f = function([x,y],z)\n",
      "f(2,3)"
     ],
     "language": "python",
     "metadata": {},
     "outputs": [
      {
       "metadata": {},
       "output_type": "pyout",
       "prompt_number": 15,
       "text": [
        "array(5.0)"
       ]
      }
     ],
     "prompt_number": 15
    },
    {
     "cell_type": "code",
     "collapsed": false,
     "input": [
      "# Logistic function (for matrices only)\n",
      "X = T.dmatrix('X')\n",
      "s = 1/(1+T.exp(-X))\n",
      "logit = function([X],s)\n",
      "logit([[1.2,-0.3],[3.4,1.1]])"
     ],
     "language": "python",
     "metadata": {},
     "outputs": [
      {
       "metadata": {},
       "output_type": "pyout",
       "prompt_number": 16,
       "text": [
        "array([[ 0.76852478,  0.42555748],\n",
        "       [ 0.96770454,  0.75026011]])"
       ]
      }
     ],
     "prompt_number": 16
    },
    {
     "cell_type": "code",
     "collapsed": false,
     "input": [
      "# Using default parameters\n",
      "x,y = T.dscalars('x','y')\n",
      "z = x + y\n",
      "f = function([x,Param(y,default=3)],z)\n",
      "f(2) # since no 'y' parameter was specified, default of 3 will be used"
     ],
     "language": "python",
     "metadata": {},
     "outputs": [
      {
       "metadata": {},
       "output_type": "pyout",
       "prompt_number": 5,
       "text": [
        "array(5.0)"
       ]
      }
     ],
     "prompt_number": 5
    },
    {
     "cell_type": "code",
     "collapsed": false,
     "input": [
      "# Using shared variables\n",
      "state = shared(0)\n",
      "inc = T.iscalar('inc') # integer\n",
      "acc = function([inc],state,updates = [(state,state+inc)]) # 'updates' parameter takes a (shared-variable, new expr) argument"
     ],
     "language": "python",
     "metadata": {},
     "outputs": [],
     "prompt_number": 6
    },
    {
     "cell_type": "code",
     "collapsed": false,
     "input": [
      "# Testing functionality\n",
      "state.get_value()"
     ],
     "language": "python",
     "metadata": {},
     "outputs": [
      {
       "metadata": {},
       "output_type": "pyout",
       "prompt_number": 7,
       "text": [
        "array(0)"
       ]
      }
     ],
     "prompt_number": 7
    },
    {
     "cell_type": "code",
     "collapsed": false,
     "input": [
      "acc(1)\n",
      "state.get_value()"
     ],
     "language": "python",
     "metadata": {},
     "outputs": [
      {
       "metadata": {},
       "output_type": "pyout",
       "prompt_number": 8,
       "text": [
        "array(1)"
       ]
      }
     ],
     "prompt_number": 8
    },
    {
     "cell_type": "code",
     "collapsed": false,
     "input": [
      "acc(300)\n",
      "state.get_value()"
     ],
     "language": "python",
     "metadata": {},
     "outputs": [
      {
       "metadata": {},
       "output_type": "pyout",
       "prompt_number": 9,
       "text": [
        "array(301)"
       ]
      }
     ],
     "prompt_number": 9
    },
    {
     "cell_type": "code",
     "collapsed": false,
     "input": [
      "# can define any number of functions that operate on 'state'\n",
      "dec = function([inc],state,updates=[(state,state-inc)])\n",
      "dec(5)\n",
      "state.get_value()"
     ],
     "language": "python",
     "metadata": {},
     "outputs": [
      {
       "metadata": {},
       "output_type": "pyout",
       "prompt_number": 11,
       "text": [
        "array(291)"
       ]
      }
     ],
     "prompt_number": 11
    },
    {
     "cell_type": "code",
     "collapsed": false,
     "input": [
      "# The \"givens\" parameter of function\n",
      "fn_of_state = state*2 + inc\n",
      "\n",
      "# The type of 'foo' must match the shared variable we are replacing with the 'givens'\n",
      "foo = T.scalar(dtype = state.dtype)\n",
      "skip_shared = function([inc,foo],fn_of_state,givens=[(state,foo)])\n",
      "skip_shared(1,3)"
     ],
     "language": "python",
     "metadata": {},
     "outputs": [
      {
       "metadata": {},
       "output_type": "pyout",
       "prompt_number": 12,
       "text": [
        "array(7)"
       ]
      }
     ],
     "prompt_number": 12
    },
    {
     "cell_type": "code",
     "collapsed": false,
     "input": [
      "state.get_value()"
     ],
     "language": "python",
     "metadata": {},
     "outputs": [
      {
       "metadata": {},
       "output_type": "pyout",
       "prompt_number": 13,
       "text": [
        "array(291)"
       ]
      }
     ],
     "prompt_number": 13
    },
    {
     "cell_type": "code",
     "collapsed": false,
     "input": [
      "# Using random streams\n",
      "from theano.tensor.shared_randomstreams import RandomStreams\n",
      "\n",
      "srng = RandomStreams(seed=234)\n",
      "rv_u = srng.uniform((2,2))\n",
      "rv_n = srng.normal((2,2))\n",
      "f = function([], rv_u)\n",
      "g = function([], rv_n, no_default_updates=True) # not updating rv_n.rng\n",
      "nearly_zeros = function([], rv_u + rv_u - 2*rv_u)"
     ],
     "language": "python",
     "metadata": {},
     "outputs": [],
     "prompt_number": 17
    },
    {
     "cell_type": "code",
     "collapsed": false,
     "input": [
      "f()"
     ],
     "language": "python",
     "metadata": {},
     "outputs": [
      {
       "metadata": {},
       "output_type": "pyout",
       "prompt_number": 19,
       "text": [
        "array([[ 0.31971415,  0.47584377],\n",
        "       [ 0.24129163,  0.42046081]])"
       ]
      }
     ],
     "prompt_number": 19
    },
    {
     "cell_type": "code",
     "collapsed": false,
     "input": [
      "f() # should be different from the last call"
     ],
     "language": "python",
     "metadata": {},
     "outputs": [
      {
       "metadata": {},
       "output_type": "pyout",
       "prompt_number": 20,
       "text": [
        "array([[ 0.44078224,  0.26993381],\n",
        "       [ 0.14317277,  0.43571539]])"
       ]
      }
     ],
     "prompt_number": 20
    },
    {
     "cell_type": "code",
     "collapsed": false,
     "input": [
      "g()"
     ],
     "language": "python",
     "metadata": {},
     "outputs": [
      {
       "metadata": {},
       "output_type": "pyout",
       "prompt_number": 21,
       "text": [
        "array([[ 0.37328447, -0.65746672],\n",
        "       [-0.36302373, -0.97484625]])"
       ]
      }
     ],
     "prompt_number": 21
    },
    {
     "cell_type": "code",
     "collapsed": false,
     "input": [
      "g() # should be the same as before, since we have \"no_default_updates\" set to True"
     ],
     "language": "python",
     "metadata": {},
     "outputs": [
      {
       "metadata": {},
       "output_type": "pyout",
       "prompt_number": 22,
       "text": [
        "array([[ 0.37328447, -0.65746672],\n",
        "       [-0.36302373, -0.97484625]])"
       ]
      }
     ],
     "prompt_number": 22
    },
    {
     "cell_type": "code",
     "collapsed": false,
     "input": [
      "nearly_zeros() # despite using 'rv_u' three times, it's the same value for each occurrence"
     ],
     "language": "python",
     "metadata": {},
     "outputs": [
      {
       "metadata": {},
       "output_type": "pyout",
       "prompt_number": 23,
       "text": [
        "array([[ 0.,  0.],\n",
        "       [ 0.,  0.]])"
       ]
      }
     ],
     "prompt_number": 23
    },
    {
     "cell_type": "code",
     "collapsed": false,
     "input": [
      "# Copying random state between theano graphs\n",
      "from theano.sandbox.rng_mrg import MRG_RandomStreams\n",
      "from theano.tensor.shared_randomstreams import RandomStreams\n",
      "\n",
      "class Graph():\n",
      "    def __init__(self,seed=123):\n",
      "        self.rng = RandomStreams(seed)\n",
      "        self.y = self.rng.uniform(size=(1,))\n",
      "\n",
      "g1 = Graph(seed=123)\n",
      "f1 = function([],g1.y)\n",
      "\n",
      "g2 = Graph(seed=987)\n",
      "f2 = function([],g2.y)\n",
      "\n",
      "print \"By default, the two functions are out of sync.\"\n",
      "print \"f1() returns\",f1()\n",
      "print \"f2() returns\",f2()\n",
      "\n",
      "def copy_random_state(g1,g2):\n",
      "    if isinstance(g1.rng, MRG_RandomStreams):\n",
      "        g2.rng.rstate = g1.rng.rstate\n",
      "    for (su1,su2) in zip(g1.rng.state_updates, g2.rng.state_updates):\n",
      "        su2[0].set_value(su1[0].get_value())\n",
      "\n",
      "print \"We now copy the state of the theano random number generators.\"\n",
      "copy_random_state(g1,g2)\n",
      "print \"f1() returns\",f1()\n",
      "print \"f2() retruns\",f2()        "
     ],
     "language": "python",
     "metadata": {},
     "outputs": [
      {
       "output_type": "stream",
       "stream": "stdout",
       "text": [
        "By default, the two functions are out of sync.\n",
        "f1() returns [ 0.72803009]\n",
        "f2() returns [ 0.55056769]\n",
        "We now copy the state of the theano random number generators.\n",
        "f1() returns [ 0.59044123]\n",
        "f2() retruns [ 0.59044123]\n"
       ]
      }
     ],
     "prompt_number": 26
    },
    {
     "cell_type": "code",
     "collapsed": false,
     "input": [
      "# Matrix operations - summing values across rows in a matrix\n",
      "Z = T.dmatrix('Z')\n",
      "f = function([Z],T.sum(Z,axis=0))\n",
      "f([[1.2,0.3],[3.3,5.1]])"
     ],
     "language": "python",
     "metadata": {},
     "outputs": [
      {
       "metadata": {},
       "output_type": "pyout",
       "prompt_number": 37,
       "text": [
        "array([ 4.5,  5.4])"
       ]
      }
     ],
     "prompt_number": 37
    },
    {
     "cell_type": "code",
     "collapsed": false,
     "input": [
      "# Matrix operations - summing all values in a matrix\n",
      "Z = T.dmatrix('Z')\n",
      "f = function([Z],T.sum(Z))\n",
      "f([[1.2,0.3],[3.3,5.1]])"
     ],
     "language": "python",
     "metadata": {},
     "outputs": [
      {
       "metadata": {},
       "output_type": "pyout",
       "prompt_number": 38,
       "text": [
        "array(9.899999999999999)"
       ]
      }
     ],
     "prompt_number": 38
    },
    {
     "cell_type": "code",
     "collapsed": false,
     "input": [
      "# softmax of a matrix k x m\n",
      "import numpy as np\n",
      "\n",
      "Z = T.dmatrix(\"Z\")\n",
      "max_v = T.max(Z,axis=0)\n",
      "log_sum = T.log(T.sum(T.exp(Z-max_v),axis=0))+max_v\n",
      "softmax_fn = T.exp(Z-log_sum)\n",
      "softmax = function([Z],softmax_fn)\n",
      "softmax(np.random.randn(4,2))"
     ],
     "language": "python",
     "metadata": {},
     "outputs": [
      {
       "metadata": {},
       "output_type": "pyout",
       "prompt_number": 36,
       "text": [
        "array([[ 0.16357654,  0.18070443],\n",
        "       [ 0.33170099,  0.13827711],\n",
        "       [ 0.44473616,  0.63698358],\n",
        "       [ 0.0599863 ,  0.04403488]])"
       ]
      }
     ],
     "prompt_number": 36
    },
    {
     "cell_type": "code",
     "collapsed": false,
     "input": [
      "# Broadcasting\n",
      "A = T.dmatrix('A')\n",
      "b = T.vector('b')\n",
      "C = A + b\n",
      "f = function([A,b],C)\n",
      "f(np.array([[1,2],[2,3]]),np.array([1,2]))"
     ],
     "language": "python",
     "metadata": {},
     "outputs": [
      {
       "ename": "TypeError",
       "evalue": "('Bad input argument to theano function at index 1(0-based)', 'Wrong number of dimensions: expected 1, got 2 with shape (2, 1).')",
       "output_type": "pyerr",
       "traceback": [
        "\u001b[1;31m---------------------------------------------------------------------------\u001b[0m\n\u001b[1;31mTypeError\u001b[0m                                 Traceback (most recent call last)",
        "\u001b[1;32m<ipython-input-44-2ecbab464989>\u001b[0m in \u001b[0;36m<module>\u001b[1;34m()\u001b[0m\n\u001b[0;32m      4\u001b[0m \u001b[0mC\u001b[0m \u001b[1;33m=\u001b[0m \u001b[0mA\u001b[0m \u001b[1;33m+\u001b[0m \u001b[0mb\u001b[0m\u001b[1;33m\u001b[0m\u001b[0m\n\u001b[0;32m      5\u001b[0m \u001b[0mf\u001b[0m \u001b[1;33m=\u001b[0m \u001b[0mfunction\u001b[0m\u001b[1;33m(\u001b[0m\u001b[1;33m[\u001b[0m\u001b[0mA\u001b[0m\u001b[1;33m,\u001b[0m\u001b[0mb\u001b[0m\u001b[1;33m]\u001b[0m\u001b[1;33m,\u001b[0m\u001b[0mC\u001b[0m\u001b[1;33m)\u001b[0m\u001b[1;33m\u001b[0m\u001b[0m\n\u001b[1;32m----> 6\u001b[1;33m \u001b[0mf\u001b[0m\u001b[1;33m(\u001b[0m\u001b[0mnp\u001b[0m\u001b[1;33m.\u001b[0m\u001b[0marray\u001b[0m\u001b[1;33m(\u001b[0m\u001b[1;33m[\u001b[0m\u001b[1;33m[\u001b[0m\u001b[1;36m1\u001b[0m\u001b[1;33m,\u001b[0m\u001b[1;36m2\u001b[0m\u001b[1;33m]\u001b[0m\u001b[1;33m,\u001b[0m\u001b[1;33m[\u001b[0m\u001b[1;36m2\u001b[0m\u001b[1;33m,\u001b[0m\u001b[1;36m3\u001b[0m\u001b[1;33m]\u001b[0m\u001b[1;33m]\u001b[0m\u001b[1;33m)\u001b[0m\u001b[1;33m,\u001b[0m\u001b[0mnp\u001b[0m\u001b[1;33m.\u001b[0m\u001b[0marray\u001b[0m\u001b[1;33m(\u001b[0m\u001b[1;33m[\u001b[0m\u001b[1;36m1\u001b[0m\u001b[1;33m,\u001b[0m\u001b[1;36m2\u001b[0m\u001b[1;33m]\u001b[0m\u001b[1;33m)\u001b[0m\u001b[1;33m[\u001b[0m\u001b[1;33m:\u001b[0m\u001b[1;33m,\u001b[0m\u001b[0mnp\u001b[0m\u001b[1;33m.\u001b[0m\u001b[0mnewaxis\u001b[0m\u001b[1;33m]\u001b[0m\u001b[1;33m)\u001b[0m\u001b[1;33m\u001b[0m\u001b[0m\n\u001b[0m",
        "\u001b[1;32m/usr/local/lib/python2.7/dist-packages/theano/compile/function_module.pyc\u001b[0m in \u001b[0;36m__call__\u001b[1;34m(self, *args, **kwargs)\u001b[0m\n\u001b[0;32m    495\u001b[0m                     \u001b[1;32mtry\u001b[0m\u001b[1;33m:\u001b[0m\u001b[1;33m\u001b[0m\u001b[0m\n\u001b[0;32m    496\u001b[0m                         s.storage[0] = s.type.filter(arg, strict=s.strict,\n\u001b[1;32m--> 497\u001b[1;33m                                 allow_downcast=s.allow_downcast)\n\u001b[0m\u001b[0;32m    498\u001b[0m \u001b[1;33m\u001b[0m\u001b[0m\n\u001b[0;32m    499\u001b[0m                     \u001b[1;32mexcept\u001b[0m \u001b[0mException\u001b[0m\u001b[1;33m,\u001b[0m \u001b[0me\u001b[0m\u001b[1;33m:\u001b[0m\u001b[1;33m\u001b[0m\u001b[0m\n",
        "\u001b[1;32m/usr/local/lib/python2.7/dist-packages/theano/tensor/type.pyc\u001b[0m in \u001b[0;36mfilter\u001b[1;34m(self, data, strict, allow_downcast)\u001b[0m\n\u001b[0;32m    155\u001b[0m             raise TypeError(\"Wrong number of dimensions: expected %s,\"\n\u001b[0;32m    156\u001b[0m                             \" got %s with shape %s.\" % (self.ndim, data.ndim,\n\u001b[1;32m--> 157\u001b[1;33m                                                         data.shape))\n\u001b[0m\u001b[0;32m    158\u001b[0m         \u001b[1;32mif\u001b[0m \u001b[1;32mnot\u001b[0m \u001b[0mdata\u001b[0m\u001b[1;33m.\u001b[0m\u001b[0mflags\u001b[0m\u001b[1;33m.\u001b[0m\u001b[0maligned\u001b[0m\u001b[1;33m:\u001b[0m\u001b[1;33m\u001b[0m\u001b[0m\n\u001b[0;32m    159\u001b[0m             \u001b[1;32mtry\u001b[0m\u001b[1;33m:\u001b[0m\u001b[1;33m\u001b[0m\u001b[0m\n",
        "\u001b[1;31mTypeError\u001b[0m: ('Bad input argument to theano function at index 1(0-based)', 'Wrong number of dimensions: expected 1, got 2 with shape (2, 1).')"
       ]
      }
     ],
     "prompt_number": 44
    },
    {
     "cell_type": "code",
     "collapsed": false,
     "input": [],
     "language": "python",
     "metadata": {},
     "outputs": []
    }
   ],
   "metadata": {}
  }
 ]
}