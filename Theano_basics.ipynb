{
 "metadata": {
  "name": "",
  "signature": "sha256:0b487cd3039230fd2d78f2812900851151e87ca25fc555be5ee7adc5911a1e66"
 },
 "nbformat": 3,
 "nbformat_minor": 0,
 "worksheets": [
  {
   "cells": [
    {
     "cell_type": "code",
     "collapsed": false,
     "input": [
      "# Material taken directly from theano tutorial"
     ],
     "language": "python",
     "metadata": {},
     "outputs": [],
     "prompt_number": 1
    },
    {
     "cell_type": "code",
     "collapsed": false,
     "input": [
      "# All imports - run this first\n",
      "import numpy as np\n",
      "import theano.tensor as T\n",
      "import theano\n",
      "from theano import function, Param, shared\n",
      "from theano.tensor.shared_randomstreams import RandomStreams\n",
      "from theano.sandbox.rng_mrg import MRG_RandomStreams\n",
      "\n",
      "# Useful functions\n",
      "def floatX(z):\n",
      "    return np.asarray(z,dtype=theano.config.floatX)"
     ],
     "language": "python",
     "metadata": {},
     "outputs": [],
     "prompt_number": 2
    },
    {
     "cell_type": "code",
     "collapsed": false,
     "input": [
      "# Adding two scalars\n",
      "x = T.dscalar('x')\n",
      "y = T.dscalar('y')\n",
      "z = x + y\n",
      "f = function([x,y],z)\n",
      "f(2,3)"
     ],
     "language": "python",
     "metadata": {},
     "outputs": [
      {
       "metadata": {},
       "output_type": "pyout",
       "prompt_number": 15,
       "text": [
        "array(5.0)"
       ]
      }
     ],
     "prompt_number": 15
    },
    {
     "cell_type": "code",
     "collapsed": false,
     "input": [
      "# Logistic function (for matrices only)\n",
      "X = T.dmatrix('X')\n",
      "s = 1/(1+T.exp(-X))\n",
      "logit = function([X],s)\n",
      "logit([[1.2,-0.3],[3.4,1.1]])"
     ],
     "language": "python",
     "metadata": {},
     "outputs": [
      {
       "metadata": {},
       "output_type": "pyout",
       "prompt_number": 16,
       "text": [
        "array([[ 0.76852478,  0.42555748],\n",
        "       [ 0.96770454,  0.75026011]])"
       ]
      }
     ],
     "prompt_number": 16
    },
    {
     "cell_type": "code",
     "collapsed": false,
     "input": [
      "# Using default parameters\n",
      "x,y = T.dscalars('x','y')\n",
      "z = x + y\n",
      "f = function([x,Param(y,default=3)],z)\n",
      "f(2) # since no 'y' parameter was specified, default of 3 will be used"
     ],
     "language": "python",
     "metadata": {},
     "outputs": [
      {
       "metadata": {},
       "output_type": "pyout",
       "prompt_number": 5,
       "text": [
        "array(5.0)"
       ]
      }
     ],
     "prompt_number": 5
    },
    {
     "cell_type": "code",
     "collapsed": false,
     "input": [
      "# Using shared variables\n",
      "state = shared(0)\n",
      "inc = T.iscalar('inc') # integer\n",
      "acc = function([inc],state,updates = [(state,state+inc)]) # 'updates' parameter takes a (shared-variable, new expr) argument"
     ],
     "language": "python",
     "metadata": {},
     "outputs": [],
     "prompt_number": 6
    },
    {
     "cell_type": "code",
     "collapsed": false,
     "input": [
      "# Testing functionality\n",
      "state.get_value()"
     ],
     "language": "python",
     "metadata": {},
     "outputs": [
      {
       "metadata": {},
       "output_type": "pyout",
       "prompt_number": 7,
       "text": [
        "array(0)"
       ]
      }
     ],
     "prompt_number": 7
    },
    {
     "cell_type": "code",
     "collapsed": false,
     "input": [
      "acc(1)\n",
      "state.get_value()"
     ],
     "language": "python",
     "metadata": {},
     "outputs": [
      {
       "metadata": {},
       "output_type": "pyout",
       "prompt_number": 8,
       "text": [
        "array(1)"
       ]
      }
     ],
     "prompt_number": 8
    },
    {
     "cell_type": "code",
     "collapsed": false,
     "input": [
      "acc(300)\n",
      "state.get_value()"
     ],
     "language": "python",
     "metadata": {},
     "outputs": [
      {
       "metadata": {},
       "output_type": "pyout",
       "prompt_number": 9,
       "text": [
        "array(301)"
       ]
      }
     ],
     "prompt_number": 9
    },
    {
     "cell_type": "code",
     "collapsed": false,
     "input": [
      "# can define any number of functions that operate on 'state'\n",
      "dec = function([inc],state,updates=[(state,state-inc)])\n",
      "dec(5)\n",
      "state.get_value()"
     ],
     "language": "python",
     "metadata": {},
     "outputs": [
      {
       "metadata": {},
       "output_type": "pyout",
       "prompt_number": 11,
       "text": [
        "array(291)"
       ]
      }
     ],
     "prompt_number": 11
    },
    {
     "cell_type": "code",
     "collapsed": false,
     "input": [
      "# The \"givens\" parameter of function\n",
      "fn_of_state = state*2 + inc\n",
      "\n",
      "# The type of 'foo' must match the shared variable we are replacing with the 'givens'\n",
      "foo = T.scalar(dtype = state.dtype)\n",
      "skip_shared = function([inc,foo],fn_of_state,givens=[(state,foo)])\n",
      "skip_shared(1,3)"
     ],
     "language": "python",
     "metadata": {},
     "outputs": [
      {
       "metadata": {},
       "output_type": "pyout",
       "prompt_number": 12,
       "text": [
        "array(7)"
       ]
      }
     ],
     "prompt_number": 12
    },
    {
     "cell_type": "code",
     "collapsed": false,
     "input": [
      "state.get_value()"
     ],
     "language": "python",
     "metadata": {},
     "outputs": [
      {
       "metadata": {},
       "output_type": "pyout",
       "prompt_number": 13,
       "text": [
        "array(291)"
       ]
      }
     ],
     "prompt_number": 13
    },
    {
     "cell_type": "code",
     "collapsed": false,
     "input": [
      "# Using random streams\n",
      "\n",
      "srng = RandomStreams(seed=234)\n",
      "rv_u = srng.uniform((2,2))\n",
      "rv_n = srng.normal((2,2))\n",
      "f = function([], rv_u)\n",
      "g = function([], rv_n, no_default_updates=True) # not updating rv_n.rng\n",
      "nearly_zeros = function([], rv_u + rv_u - 2*rv_u)"
     ],
     "language": "python",
     "metadata": {},
     "outputs": [],
     "prompt_number": 17
    },
    {
     "cell_type": "code",
     "collapsed": false,
     "input": [
      "f()"
     ],
     "language": "python",
     "metadata": {},
     "outputs": [
      {
       "metadata": {},
       "output_type": "pyout",
       "prompt_number": 19,
       "text": [
        "array([[ 0.31971415,  0.47584377],\n",
        "       [ 0.24129163,  0.42046081]])"
       ]
      }
     ],
     "prompt_number": 19
    },
    {
     "cell_type": "code",
     "collapsed": false,
     "input": [
      "f() # should be different from the last call"
     ],
     "language": "python",
     "metadata": {},
     "outputs": [
      {
       "metadata": {},
       "output_type": "pyout",
       "prompt_number": 20,
       "text": [
        "array([[ 0.44078224,  0.26993381],\n",
        "       [ 0.14317277,  0.43571539]])"
       ]
      }
     ],
     "prompt_number": 20
    },
    {
     "cell_type": "code",
     "collapsed": false,
     "input": [
      "g()"
     ],
     "language": "python",
     "metadata": {},
     "outputs": [
      {
       "metadata": {},
       "output_type": "pyout",
       "prompt_number": 21,
       "text": [
        "array([[ 0.37328447, -0.65746672],\n",
        "       [-0.36302373, -0.97484625]])"
       ]
      }
     ],
     "prompt_number": 21
    },
    {
     "cell_type": "code",
     "collapsed": false,
     "input": [
      "g() # should be the same as before, since we have \"no_default_updates\" set to True"
     ],
     "language": "python",
     "metadata": {},
     "outputs": [
      {
       "metadata": {},
       "output_type": "pyout",
       "prompt_number": 22,
       "text": [
        "array([[ 0.37328447, -0.65746672],\n",
        "       [-0.36302373, -0.97484625]])"
       ]
      }
     ],
     "prompt_number": 22
    },
    {
     "cell_type": "code",
     "collapsed": false,
     "input": [
      "nearly_zeros() # despite using 'rv_u' three times, it's the same value for each occurrence"
     ],
     "language": "python",
     "metadata": {},
     "outputs": [
      {
       "metadata": {},
       "output_type": "pyout",
       "prompt_number": 23,
       "text": [
        "array([[ 0.,  0.],\n",
        "       [ 0.,  0.]])"
       ]
      }
     ],
     "prompt_number": 23
    },
    {
     "cell_type": "code",
     "collapsed": false,
     "input": [
      "# Copying random state between theano graphs\n",
      "\n",
      "class Graph():\n",
      "    def __init__(self,seed=123):\n",
      "        self.rng = RandomStreams(seed)\n",
      "        self.y = self.rng.uniform(size=(1,))\n",
      "\n",
      "g1 = Graph(seed=123)\n",
      "f1 = function([],g1.y)\n",
      "\n",
      "g2 = Graph(seed=987)\n",
      "f2 = function([],g2.y)\n",
      "\n",
      "print \"By default, the two functions are out of sync.\"\n",
      "print \"f1() returns\",f1()\n",
      "print \"f2() returns\",f2()\n",
      "\n",
      "def copy_random_state(g1,g2):\n",
      "    if isinstance(g1.rng, MRG_RandomStreams):\n",
      "        g2.rng.rstate = g1.rng.rstate\n",
      "    for (su1,su2) in zip(g1.rng.state_updates, g2.rng.state_updates):\n",
      "        su2[0].set_value(su1[0].get_value())\n",
      "\n",
      "print \"We now copy the state of the theano random number generators.\"\n",
      "copy_random_state(g1,g2)\n",
      "print \"f1() returns\",f1()\n",
      "print \"f2() retruns\",f2()        "
     ],
     "language": "python",
     "metadata": {},
     "outputs": [
      {
       "output_type": "stream",
       "stream": "stdout",
       "text": [
        "By default, the two functions are out of sync.\n",
        "f1() returns [ 0.72803009]\n",
        "f2() returns [ 0.55056769]\n",
        "We now copy the state of the theano random number generators.\n",
        "f1() returns [ 0.59044123]\n",
        "f2() retruns [ 0.59044123]\n"
       ]
      }
     ],
     "prompt_number": 26
    },
    {
     "cell_type": "code",
     "collapsed": false,
     "input": [
      "# Matrix operations - summing values across rows in a matrix\n",
      "Z = T.dmatrix('Z')\n",
      "f = function([Z],T.sum(Z,axis=0))\n",
      "f([[1.2,0.3],[3.3,5.1]])"
     ],
     "language": "python",
     "metadata": {},
     "outputs": [
      {
       "metadata": {},
       "output_type": "pyout",
       "prompt_number": 37,
       "text": [
        "array([ 4.5,  5.4])"
       ]
      }
     ],
     "prompt_number": 37
    },
    {
     "cell_type": "code",
     "collapsed": false,
     "input": [
      "# Matrix operations - summing all values in a matrix\n",
      "Z = T.dmatrix('Z')\n",
      "f = function([Z],T.sum(Z))\n",
      "f([[1.2,0.3],[3.3,5.1]])"
     ],
     "language": "python",
     "metadata": {},
     "outputs": [
      {
       "metadata": {},
       "output_type": "pyout",
       "prompt_number": 38,
       "text": [
        "array(9.899999999999999)"
       ]
      }
     ],
     "prompt_number": 38
    },
    {
     "cell_type": "code",
     "collapsed": false,
     "input": [
      "# Softmax of a matrix k x m\n",
      "\n",
      "Z = T.dmatrix(\"Z\")\n",
      "max_v = T.max(Z,axis=0)\n",
      "log_sum = T.log(T.sum(T.exp(Z-max_v),axis=0))+max_v\n",
      "softmax_fn = T.exp(Z-log_sum)\n",
      "softmax = function([Z],softmax_fn)\n",
      "softmax(np.random.randn(4,2))"
     ],
     "language": "python",
     "metadata": {},
     "outputs": [
      {
       "metadata": {},
       "output_type": "pyout",
       "prompt_number": 5,
       "text": [
        "array([[ 0.18832867,  0.04545864],\n",
        "       [ 0.2801004 ,  0.25171751],\n",
        "       [ 0.12795057,  0.31715648],\n",
        "       [ 0.40362036,  0.38566736]])"
       ]
      }
     ],
     "prompt_number": 5
    },
    {
     "cell_type": "code",
     "collapsed": false,
     "input": [
      "# Broadcasting\n",
      "A = T.dmatrix('A')\n",
      "b = T.vector('b')\n",
      "C = A + b\n",
      "f = function([A,b],C)\n",
      "f(np.array([[1,2],[2,3]]),np.array([1,2]))"
     ],
     "language": "python",
     "metadata": {},
     "outputs": [
      {
       "metadata": {},
       "output_type": "pyout",
       "prompt_number": 5,
       "text": [
        "array([[ 2.,  4.],\n",
        "       [ 3.,  5.]])"
       ]
      }
     ],
     "prompt_number": 5
    },
    {
     "cell_type": "code",
     "collapsed": false,
     "input": [
      "# Broadcasting, Part 2\n",
      "\n",
      "W = floatX(np.random.rand(10,5))\n",
      "b = floatX(np.random.rand(10,1))\n",
      "x = T.matrix('x')\n",
      "z = T.dot(W,x) + b\n",
      "f = function([x],z)\n",
      "X = floatX(np.random.rand(5,2))\n",
      "f(X)"
     ],
     "language": "python",
     "metadata": {},
     "outputs": [
      {
       "metadata": {},
       "output_type": "pyout",
       "prompt_number": 6,
       "text": [
        "array([[ 1.09562664,  1.11004694],\n",
        "       [ 1.11954532,  1.48119477],\n",
        "       [ 1.61607887,  2.23158286],\n",
        "       [ 0.83928055,  1.31128506],\n",
        "       [ 1.73383586,  2.62231855],\n",
        "       [ 2.01856293,  2.22257043],\n",
        "       [ 1.71298641,  2.11270827],\n",
        "       [ 2.06697041,  2.29986275],\n",
        "       [ 1.401576  ,  1.88210006],\n",
        "       [ 0.95474975,  0.91113089]])"
       ]
      }
     ],
     "prompt_number": 6
    },
    {
     "cell_type": "code",
     "collapsed": false,
     "input": [
      "y1 = floatX(np.random.rand(5,5))\n",
      "y2 = floatX(np.random.rand(5,5))\n",
      "a = T.matrix()\n",
      "b = T.matrix()\n",
      "f = function([a],T.argmax(a,axis=1))"
     ],
     "language": "python",
     "metadata": {},
     "outputs": [
      {
       "output_type": "stream",
       "stream": "stdout",
       "text": [
        "<type 'numpy.ndarray'>\n"
       ]
      }
     ],
     "prompt_number": 14
    },
    {
     "cell_type": "code",
     "collapsed": false,
     "input": [
      "# Flattening and concatenating\n",
      "w = shared(floatX(np.random.rand(4,3)))\n",
      "b = shared(floatX(np.random.rand(2,6)))\n",
      "#wv = w.get_value().flatten()\n",
      "v = floatX(np.array([]))\n",
      "w_flat = T.concatenate((v,T.flatten(w)))\n",
      "x = T.matrix()\n",
      "f_flatten = theano.function(inputs=[x],outputs=T.flatten(x)+w_flat)\n",
      "#f_flatten = theano.function(inputs=[x,y],outputs=T.concatenate((T.flatten(x),T.flatten(y))))\n",
      "print f_flatten(b.get_value())"
     ],
     "language": "python",
     "metadata": {},
     "outputs": [
      {
       "output_type": "stream",
       "stream": "stdout",
       "text": [
        "[ 0.36394914  1.18667072  0.59008706  1.65606705  0.91737431  1.02576937\n",
        "  1.72797192  0.97047948  0.90174296  1.24189907  1.50950989  0.74876958]\n"
       ]
      }
     ],
     "prompt_number": 39
    },
    {
     "cell_type": "code",
     "collapsed": false,
     "input": [
      "# Hypothesis: functions written using numpy functions are equivalent to those using theano\n",
      "\n",
      "v = np.random.rand(5,5)\n",
      "w = np.random.rand(5,5)\n",
      "\n",
      "def some_function(a,b):\n",
      "    try:\n",
      "        print 'Trying to use a numpy method within a theano function...'\n",
      "        return np.dot(a,b)\n",
      "    except ValueError:\n",
      "        print '...raises a ValueError. Compiling theano function...'\n",
      "        return T.dot(a,b)\n",
      "\n",
      "x = T.matrix()\n",
      "y = T.matrix()\n",
      "f = theano.function(inputs=[x,y],outputs=some_function(x,y))\n",
      "print '...and all seems well!\\n'\n",
      "\n",
      "print f(v,w)\n",
      "\n",
      "# Conclusion: you can't just use numpy methods en route to constructing an expression graph in theano. While the data structures\n",
      "# themselves can be numpy based, the methods applied to them prior to compiling the theano 'function' MUST be from theano!"
     ],
     "language": "python",
     "metadata": {},
     "outputs": [
      {
       "output_type": "stream",
       "stream": "stdout",
       "text": [
        "Trying to use a numpy method within a theano function...\n",
        "...raises a ValueError. Compiling theano function...\n",
        "...and all seems well!\n",
        "\n",
        "[[ 0.65775892  1.54983853  1.2175288   1.70021737  1.4490416 ]\n",
        " [ 0.73635439  1.89111086  1.10033952  1.97005004  1.44693019]\n",
        " [ 0.35617496  1.4472465   1.11938475  1.42085344  1.00723842]\n",
        " [ 0.63104755  1.99118292  1.18530693  2.04810242  1.34770615]\n",
        " [ 0.52160606  1.12934379  0.63217456  1.20370576  0.95544632]]\n"
       ]
      }
     ],
     "prompt_number": 30
    },
    {
     "cell_type": "code",
     "collapsed": false,
     "input": [
      "srng = RandomStreams()\n",
      "f = theano.function(inputs=[],outputs=srng.permutation((1,),10))\n",
      "f()"
     ],
     "language": "python",
     "metadata": {},
     "outputs": [
      {
       "metadata": {},
       "output_type": "pyout",
       "prompt_number": 57,
       "text": [
        "array([[8, 7, 2, 4, 3, 1, 5, 0, 9, 6]])"
       ]
      }
     ],
     "prompt_number": 57
    },
    {
     "cell_type": "code",
     "collapsed": false,
     "input": [
      "# multiply\n",
      "X = T.matrix('X')\n",
      "f = theano.function(inputs=[X],outputs=T.sum(X))\n",
      "f(np.ones((5,5)))"
     ],
     "language": "python",
     "metadata": {},
     "outputs": [
      {
       "metadata": {},
       "output_type": "pyout",
       "prompt_number": 21,
       "text": [
        "array(25.0)"
       ]
      }
     ],
     "prompt_number": 21
    },
    {
     "cell_type": "code",
     "collapsed": false,
     "input": [
      "# Testing theories about the theano graph using two versions of \"fprop\"\n",
      "#----------------------------------------------------------------------\n",
      "def reLU(z):\n",
      "    return 0.5*(z + abs(z))\n",
      "\n",
      "# this function keeps track of all the intermediate values..\n",
      "def fprop(X,wts,bs):\n",
      "    act = []\n",
      "    act.append(reLU(T.dot(X,wts[0]) + bs[0]))\n",
      "    if len(wts) > 1:\n",
      "        for i,(w,b) in enumerate(zip(wts[1:],bs[1:])):\n",
      "            act.append(reLU(T.dot(act[-1],w) + b))\n",
      "    return act[-1]\n",
      "\n",
      "# ...while this one just computes the final activation, renaming the same variable\n",
      "def fprop_v2(X,wts,bs):\n",
      "    act = reLU(T.dot(X,wts[0]) + bs[0])\n",
      "    if len(wts) > 1:\n",
      "        for i,(w,b) in enumerate(zip(wts[1:],bs[1:])):\n",
      "            act = reLU(T.dot(act,w) + b)\n",
      "    return act\n",
      "\n",
      "def cross_entropy(y,y_prob):\n",
      "    return T.mean(T.sum(-1.0*y*T.log(y_prob),axis=1))\n",
      "\n",
      "X = T.matrix('X')\n",
      "y = T.matrix('y')\n",
      "\n",
      "# define model parameters\n",
      "wts = [theano.shared(floatX(np.random.rand(5,3))), theano.shared(floatX(np.random.rand(3,2)))]\n",
      "bs =[theano.shared(floatX(np.random.rand(3,))),theano.shared(floatX(np.random.rand(2,)))]\n",
      "wts2 = [theano.shared(floatX(w.get_value())) for w in wts]\n",
      "bs2 =[theano.shared(floatX(b.get_value())) for b in bs]\n",
      "\n",
      "params = [p for param in [wts,bs] for p in param]\n",
      "params2 = [p for param in [wts2,bs2] for p in param]\n",
      "\n",
      "# run fprop\n",
      "act = fprop(X,wts,bs)\n",
      "cost = cross_entropy(y,act)\n",
      "act2 = fprop_v2(X,wts2,bs2)\n",
      "cost2 = cross_entropy(y,act2)\n",
      "grads = [T.grad(cost,param) for param in params]\n",
      "grads2 = [T.grad(cost2,param2) for param2 in params2]\n",
      "\n",
      "learn_rate = 0.01\n",
      "\n",
      "# updates\n",
      "updates = []\n",
      "for param,grad in zip(params,grads):\n",
      "    updates.append((param,param-learn_rate*grad))\n",
      "\n",
      "    updates2 = []\n",
      "for param2,grad2 in zip(params2,grads2):\n",
      "    updates2.append((param2,param2-learn_rate2*grad2))\n",
      "    \n",
      "f = theano.function(inputs=[X,y],updates=updates)\n",
      "f2 = theano.function(inputs=[X,y],updates=updates2)\n",
      "\n",
      "X = np.random.rand(128,5)\n",
      "y = np.random.rand(128,2)\n",
      "\n",
      "for i in range(10):\n",
      "    f(X,y)\n",
      "    f2(X,y)\n",
      "\n",
      "print 'First weight matrix',wts[0].get_value()\n",
      "print 'First weight matrix 2',wts2[0].get_value()\n",
      "print 'Second weight matrix',wts[1].get_value()\n",
      "print 'Second weight matrix 2',wts2[1].get_value()\n",
      "print 'First bias vector',bs[0].get_value()\n",
      "print 'First bias vector 2',bs2[0].get_value()\n",
      "print 'Second bias vector',bs[1].get_value()\n",
      "print 'Second bias vector 2',bs2[1].get_value()\n",
      "\n",
      "# Conclusion - it doesn't matter how you do it! apparently you can re-use variables like in fprop2, but theano is smart enough to \n",
      "# know that how to use the intermediate values to compute the gradient correctly"
     ],
     "language": "python",
     "metadata": {},
     "outputs": [
      {
       "output_type": "stream",
       "stream": "stdout",
       "text": [
        "First weight matrix [[ 0.49290292  0.86104279  0.72448243]\n",
        " [ 0.9216381   0.87832127  0.90038202]\n",
        " [ 0.57868246  0.51204569  0.06803047]\n",
        " [ 0.05886483  0.57402348  0.98231581]\n",
        " [ 0.22575257  0.83450836  0.49191782]]\n",
        "First weight matrix 2 [[ 0.4991539   0.86575163  0.72952199]\n",
        " [ 0.92874495  0.88335227  0.90574462]\n",
        " [ 0.5852498   0.51700593  0.07333998]\n",
        " [ 0.06580044  0.57895633  0.98757538]\n",
        " [ 0.2323965   0.83949635  0.49725499]]\n",
        "Second weight matrix [[ 0.08045335  0.94660693]\n",
        " [ 0.32219125  0.25755443]\n",
        " [ 0.36880502  0.24883897]]\n",
        "Second weight matrix 2 [[ 0.12262823  0.97303686]\n",
        " [ 0.37519848  0.29068712]\n",
        " [ 0.40800009  0.27375599]]\n",
        "First bias vector [ 0.97551361  0.85460113  0.42164453]\n",
        "First bias vector 2 [ 0.98962078  0.86494958  0.43270087]\n",
        "Second bias vector [ 0.76316393  0.68158803]\n",
        "Second bias vector 2 [ 0.78352474  0.69433626]\n"
       ]
      }
     ],
     "prompt_number": 35
    },
    {
     "cell_type": "code",
     "collapsed": false,
     "input": [
      "# gaussian corruption\n",
      "srng = RandomStreams(seed=234)\n",
      "X = T.matrix('X')\n",
      "X_in = np.random.rand(3,3)\n",
      "W = srng.normal(X.shape,avg=0.0,std=0.1,dtype=theano.config.floatX)\n",
      "f = theano.function(inputs=[X],outputs=[X*W],allow_input_downcast=True)\n",
      "\n",
      "print X_in\n",
      "print f(X_in)\n"
     ],
     "language": "python",
     "metadata": {},
     "outputs": [
      {
       "output_type": "stream",
       "stream": "stdout",
       "text": [
        "[[ 0.11628806  0.86925939  0.82625485]\n",
        " [ 0.50952383  0.9265722   0.55308302]\n",
        " [ 0.21753194  0.99640684  0.00409901]]\n",
        "[array([[ -3.10584973e-03,  -1.73271507e-01,  -3.80449258e-02],\n",
        "       [ -7.63091370e-02,  -1.54815465e-01,  -2.37861723e-02],\n",
        "       [ -4.37300233e-03,  -1.11184537e-01,   1.13230250e-04]], dtype=float32)]\n"
       ]
      }
     ],
     "prompt_number": 9
    },
    {
     "cell_type": "code",
     "collapsed": false,
     "input": [
      "# salt-and-pepper noise\n",
      "srng = RandomStreams(seed=234)\n",
      "X = T.imatrix('X')\n",
      "p = srng.binomial(X.shape,n=1,p=0.2,dtype='int32')\n",
      "X_in = np.array([[1,0,1],[0,0,0],[1,0,0]])\n",
      "fr = theano.function(inputs=[X],outputs=[p,T.bitwise_xor(X,p)],allow_input_downcast=True)\n",
      "\n",
      "print 'X = ',X_in\n",
      "print 'p, f(X,p) = ',fr(X_in)"
     ],
     "language": "python",
     "metadata": {},
     "outputs": [
      {
       "output_type": "stream",
       "stream": "stdout",
       "text": [
        "X =  [[1 0 1]\n",
        " [0 0 0]\n",
        " [1 0 0]]\n",
        "p, f(X,p) =  [array([[0, 1, 0],\n",
        "       [1, 0, 0],\n",
        "       [0, 0, 0]], dtype=int32), array([[1, 1, 1],\n",
        "       [1, 0, 0],\n",
        "       [1, 0, 0]], dtype=int32)]\n"
       ]
      }
     ],
     "prompt_number": 6
    },
    {
     "cell_type": "code",
     "collapsed": false,
     "input": [],
     "language": "python",
     "metadata": {},
     "outputs": [],
     "prompt_number": 57
    },
    {
     "cell_type": "code",
     "collapsed": false,
     "input": [],
     "language": "python",
     "metadata": {},
     "outputs": []
    }
   ],
   "metadata": {}
  }
 ]
}