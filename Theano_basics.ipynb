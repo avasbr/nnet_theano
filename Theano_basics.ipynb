{
 "metadata": {
  "name": "",
  "signature": "sha256:e71600305909a691cd8f788e7b600ef1f95d4bb383f5a38086cdd52112ca75b2"
 },
 "nbformat": 3,
 "nbformat_minor": 0,
 "worksheets": [
  {
   "cells": [
    {
     "cell_type": "code",
     "collapsed": false,
     "input": [
      "# Material taken directly from theano tutorial"
     ],
     "language": "python",
     "metadata": {},
     "outputs": [],
     "prompt_number": 1
    },
    {
     "cell_type": "code",
     "collapsed": false,
     "input": [
      "import theano.tensor as T\n",
      "import theano\n",
      "from theano import function, Param, shared"
     ],
     "language": "python",
     "metadata": {},
     "outputs": [],
     "prompt_number": 4
    },
    {
     "cell_type": "code",
     "collapsed": false,
     "input": [
      "# Adding two scalars\n",
      "x = T.dscalar('x')\n",
      "y = T.dscalar('y')\n",
      "z = x + y\n",
      "f = function([x,y],z)\n",
      "f(2,3)"
     ],
     "language": "python",
     "metadata": {},
     "outputs": [
      {
       "metadata": {},
       "output_type": "pyout",
       "prompt_number": 15,
       "text": [
        "array(5.0)"
       ]
      }
     ],
     "prompt_number": 15
    },
    {
     "cell_type": "code",
     "collapsed": false,
     "input": [
      "# Logistic function (for matrices only)\n",
      "X = T.dmatrix('X')\n",
      "s = 1/(1+T.exp(-X))\n",
      "logit = function([X],s)\n",
      "logit([[1.2,-0.3],[3.4,1.1]])"
     ],
     "language": "python",
     "metadata": {},
     "outputs": [
      {
       "metadata": {},
       "output_type": "pyout",
       "prompt_number": 16,
       "text": [
        "array([[ 0.76852478,  0.42555748],\n",
        "       [ 0.96770454,  0.75026011]])"
       ]
      }
     ],
     "prompt_number": 16
    },
    {
     "cell_type": "code",
     "collapsed": false,
     "input": [
      "# Using default parameters\n",
      "x,y = T.dscalars('x','y')\n",
      "z = x + y\n",
      "f = function([x,Param(y,default=3)],z)\n",
      "f(2) # since no 'y' parameter was specified, default of 3 will be used"
     ],
     "language": "python",
     "metadata": {},
     "outputs": [
      {
       "metadata": {},
       "output_type": "pyout",
       "prompt_number": 5,
       "text": [
        "array(5.0)"
       ]
      }
     ],
     "prompt_number": 5
    },
    {
     "cell_type": "code",
     "collapsed": false,
     "input": [
      "# Using shared variables\n",
      "state = shared(0)\n",
      "inc = T.iscalar('inc') # integer\n",
      "acc = function([inc],state,updates = [(state,state+inc)]) # 'updates' parameter takes a (shared-variable, new expr) argument"
     ],
     "language": "python",
     "metadata": {},
     "outputs": [],
     "prompt_number": 6
    },
    {
     "cell_type": "code",
     "collapsed": false,
     "input": [
      "# Testing functionality\n",
      "state.get_value()"
     ],
     "language": "python",
     "metadata": {},
     "outputs": [
      {
       "metadata": {},
       "output_type": "pyout",
       "prompt_number": 7,
       "text": [
        "array(0)"
       ]
      }
     ],
     "prompt_number": 7
    },
    {
     "cell_type": "code",
     "collapsed": false,
     "input": [
      "acc(1)\n",
      "state.get_value()"
     ],
     "language": "python",
     "metadata": {},
     "outputs": [
      {
       "metadata": {},
       "output_type": "pyout",
       "prompt_number": 8,
       "text": [
        "array(1)"
       ]
      }
     ],
     "prompt_number": 8
    },
    {
     "cell_type": "code",
     "collapsed": false,
     "input": [
      "acc(300)\n",
      "state.get_value()"
     ],
     "language": "python",
     "metadata": {},
     "outputs": [
      {
       "metadata": {},
       "output_type": "pyout",
       "prompt_number": 9,
       "text": [
        "array(301)"
       ]
      }
     ],
     "prompt_number": 9
    },
    {
     "cell_type": "code",
     "collapsed": false,
     "input": [
      "# can define any number of functions that operate on 'state'\n",
      "dec = function([inc],state,updates=[(state,state-inc)])\n",
      "dec(5)\n",
      "state.get_value()"
     ],
     "language": "python",
     "metadata": {},
     "outputs": [
      {
       "metadata": {},
       "output_type": "pyout",
       "prompt_number": 11,
       "text": [
        "array(291)"
       ]
      }
     ],
     "prompt_number": 11
    },
    {
     "cell_type": "code",
     "collapsed": false,
     "input": [
      "# The \"givens\" parameter of function\n",
      "fn_of_state = state*2 + inc\n",
      "\n",
      "# The type of 'foo' must match the shared variable we are replacing with the 'givens'\n",
      "foo = T.scalar(dtype = state.dtype)\n",
      "skip_shared = function([inc,foo],fn_of_state,givens=[(state,foo)])\n",
      "skip_shared(1,3)"
     ],
     "language": "python",
     "metadata": {},
     "outputs": [
      {
       "metadata": {},
       "output_type": "pyout",
       "prompt_number": 12,
       "text": [
        "array(7)"
       ]
      }
     ],
     "prompt_number": 12
    },
    {
     "cell_type": "code",
     "collapsed": false,
     "input": [
      "state.get_value()"
     ],
     "language": "python",
     "metadata": {},
     "outputs": [
      {
       "metadata": {},
       "output_type": "pyout",
       "prompt_number": 13,
       "text": [
        "array(291)"
       ]
      }
     ],
     "prompt_number": 13
    },
    {
     "cell_type": "code",
     "collapsed": false,
     "input": [
      "# Using random streams\n",
      "from theano.tensor.shared_randomstreams import RandomStreams\n",
      "\n",
      "srng = RandomStreams(seed=234)\n",
      "rv_u = srng.uniform((2,2))\n",
      "rv_n = srng.normal((2,2))\n",
      "f = function([], rv_u)\n",
      "g = function([], rv_n, no_default_updates=True) # not updating rv_n.rng\n",
      "nearly_zeros = function([], rv_u + rv_u - 2*rv_u)"
     ],
     "language": "python",
     "metadata": {},
     "outputs": [],
     "prompt_number": 17
    },
    {
     "cell_type": "code",
     "collapsed": false,
     "input": [
      "f()"
     ],
     "language": "python",
     "metadata": {},
     "outputs": [
      {
       "metadata": {},
       "output_type": "pyout",
       "prompt_number": 19,
       "text": [
        "array([[ 0.31971415,  0.47584377],\n",
        "       [ 0.24129163,  0.42046081]])"
       ]
      }
     ],
     "prompt_number": 19
    },
    {
     "cell_type": "code",
     "collapsed": false,
     "input": [
      "f() # should be different from the last call"
     ],
     "language": "python",
     "metadata": {},
     "outputs": [
      {
       "metadata": {},
       "output_type": "pyout",
       "prompt_number": 20,
       "text": [
        "array([[ 0.44078224,  0.26993381],\n",
        "       [ 0.14317277,  0.43571539]])"
       ]
      }
     ],
     "prompt_number": 20
    },
    {
     "cell_type": "code",
     "collapsed": false,
     "input": [
      "g()"
     ],
     "language": "python",
     "metadata": {},
     "outputs": [
      {
       "metadata": {},
       "output_type": "pyout",
       "prompt_number": 21,
       "text": [
        "array([[ 0.37328447, -0.65746672],\n",
        "       [-0.36302373, -0.97484625]])"
       ]
      }
     ],
     "prompt_number": 21
    },
    {
     "cell_type": "code",
     "collapsed": false,
     "input": [
      "g() # should be the same as before, since we have \"no_default_updates\" set to True"
     ],
     "language": "python",
     "metadata": {},
     "outputs": [
      {
       "metadata": {},
       "output_type": "pyout",
       "prompt_number": 22,
       "text": [
        "array([[ 0.37328447, -0.65746672],\n",
        "       [-0.36302373, -0.97484625]])"
       ]
      }
     ],
     "prompt_number": 22
    },
    {
     "cell_type": "code",
     "collapsed": false,
     "input": [
      "nearly_zeros() # despite using 'rv_u' three times, it's the same value for each occurrence"
     ],
     "language": "python",
     "metadata": {},
     "outputs": [
      {
       "metadata": {},
       "output_type": "pyout",
       "prompt_number": 23,
       "text": [
        "array([[ 0.,  0.],\n",
        "       [ 0.,  0.]])"
       ]
      }
     ],
     "prompt_number": 23
    },
    {
     "cell_type": "code",
     "collapsed": false,
     "input": [
      "# Copying random state between theano graphs\n",
      "from theano.sandbox.rng_mrg import MRG_RandomStreams\n",
      "from theano.tensor.shared_randomstreams import RandomStreams\n",
      "\n",
      "class Graph():\n",
      "    def __init__(self,seed=123):\n",
      "        self.rng = RandomStreams(seed)\n",
      "        self.y = self.rng.uniform(size=(1,))\n",
      "\n",
      "g1 = Graph(seed=123)\n",
      "f1 = function([],g1.y)\n",
      "\n",
      "g2 = Graph(seed=987)\n",
      "f2 = function([],g2.y)\n",
      "\n",
      "print \"By default, the two functions are out of sync.\"\n",
      "print \"f1() returns\",f1()\n",
      "print \"f2() returns\",f2()\n",
      "\n",
      "def copy_random_state(g1,g2):\n",
      "    if isinstance(g1.rng, MRG_RandomStreams):\n",
      "        g2.rng.rstate = g1.rng.rstate\n",
      "    for (su1,su2) in zip(g1.rng.state_updates, g2.rng.state_updates):\n",
      "        su2[0].set_value(su1[0].get_value())\n",
      "\n",
      "print \"We now copy the state of the theano random number generators.\"\n",
      "copy_random_state(g1,g2)\n",
      "print \"f1() returns\",f1()\n",
      "print \"f2() retruns\",f2()        "
     ],
     "language": "python",
     "metadata": {},
     "outputs": [
      {
       "output_type": "stream",
       "stream": "stdout",
       "text": [
        "By default, the two functions are out of sync.\n",
        "f1() returns [ 0.72803009]\n",
        "f2() returns [ 0.55056769]\n",
        "We now copy the state of the theano random number generators.\n",
        "f1() returns [ 0.59044123]\n",
        "f2() retruns [ 0.59044123]\n"
       ]
      }
     ],
     "prompt_number": 26
    },
    {
     "cell_type": "code",
     "collapsed": false,
     "input": [
      "# Matrix operations - summing values across rows in a matrix\n",
      "Z = T.dmatrix('Z')\n",
      "f = function([Z],T.sum(Z,axis=0))\n",
      "f([[1.2,0.3],[3.3,5.1]])"
     ],
     "language": "python",
     "metadata": {},
     "outputs": [
      {
       "metadata": {},
       "output_type": "pyout",
       "prompt_number": 37,
       "text": [
        "array([ 4.5,  5.4])"
       ]
      }
     ],
     "prompt_number": 37
    },
    {
     "cell_type": "code",
     "collapsed": false,
     "input": [
      "# Matrix operations - summing all values in a matrix\n",
      "Z = T.dmatrix('Z')\n",
      "f = function([Z],T.sum(Z))\n",
      "f([[1.2,0.3],[3.3,5.1]])"
     ],
     "language": "python",
     "metadata": {},
     "outputs": [
      {
       "metadata": {},
       "output_type": "pyout",
       "prompt_number": 38,
       "text": [
        "array(9.899999999999999)"
       ]
      }
     ],
     "prompt_number": 38
    },
    {
     "cell_type": "code",
     "collapsed": false,
     "input": [
      "# softmax of a matrix k x m\n",
      "import numpy as np\n",
      "\n",
      "Z = T.dmatrix(\"Z\")\n",
      "max_v = T.max(Z,axis=0)\n",
      "log_sum = T.log(T.sum(T.exp(Z-max_v),axis=0))+max_v\n",
      "softmax_fn = T.exp(Z-log_sum)\n",
      "softmax = function([Z],softmax_fn)\n",
      "softmax(np.random.randn(4,2))"
     ],
     "language": "python",
     "metadata": {},
     "outputs": [
      {
       "metadata": {},
       "output_type": "pyout",
       "prompt_number": 5,
       "text": [
        "array([[ 0.18832867,  0.04545864],\n",
        "       [ 0.2801004 ,  0.25171751],\n",
        "       [ 0.12795057,  0.31715648],\n",
        "       [ 0.40362036,  0.38566736]])"
       ]
      }
     ],
     "prompt_number": 5
    },
    {
     "cell_type": "code",
     "collapsed": false,
     "input": [
      "# Broadcasting\n",
      "A = T.dmatrix('A')\n",
      "b = T.vector('b')\n",
      "C = A + b\n",
      "f = function([A,b],C)\n",
      "f(np.array([[1,2],[2,3]]),np.array([1,2]))"
     ],
     "language": "python",
     "metadata": {},
     "outputs": [
      {
       "metadata": {},
       "output_type": "pyout",
       "prompt_number": 5,
       "text": [
        "array([[ 2.,  4.],\n",
        "       [ 3.,  5.]])"
       ]
      }
     ],
     "prompt_number": 5
    },
    {
     "cell_type": "code",
     "collapsed": false,
     "input": [
      "# Broadcasting, Part 2\n",
      "def floatX(z):\n",
      "    return np.asarray(z,dtype=theano.config.floatX)\n",
      "\n",
      "W = floatX(np.random.rand(10,5))\n",
      "b = floatX(np.random.rand(10,1))\n",
      "x = T.matrix('x')\n",
      "z = T.dot(W,x) + b\n",
      "f = function([x],z)\n",
      "X = floatX(np.random.rand(5,2))\n",
      "f(X)"
     ],
     "language": "python",
     "metadata": {},
     "outputs": [
      {
       "metadata": {},
       "output_type": "pyout",
       "prompt_number": 6,
       "text": [
        "array([[ 1.09562664,  1.11004694],\n",
        "       [ 1.11954532,  1.48119477],\n",
        "       [ 1.61607887,  2.23158286],\n",
        "       [ 0.83928055,  1.31128506],\n",
        "       [ 1.73383586,  2.62231855],\n",
        "       [ 2.01856293,  2.22257043],\n",
        "       [ 1.71298641,  2.11270827],\n",
        "       [ 2.06697041,  2.29986275],\n",
        "       [ 1.401576  ,  1.88210006],\n",
        "       [ 0.95474975,  0.91113089]])"
       ]
      }
     ],
     "prompt_number": 6
    },
    {
     "cell_type": "code",
     "collapsed": false,
     "input": [
      "y1 = floatX(np.random.rand(5,5))\n",
      "y2 = floatX(np.random.rand(5,5))\n",
      "a = T.matrix()\n",
      "b = T.matrix()\n",
      "f = function([a],T.argmax(a,axis=1))"
     ],
     "language": "python",
     "metadata": {},
     "outputs": [
      {
       "output_type": "stream",
       "stream": "stdout",
       "text": [
        "<type 'numpy.ndarray'>\n"
       ]
      }
     ],
     "prompt_number": 14
    },
    {
     "cell_type": "code",
     "collapsed": false,
     "input": [],
     "language": "python",
     "metadata": {},
     "outputs": []
    }
   ],
   "metadata": {}
  }
 ]
}