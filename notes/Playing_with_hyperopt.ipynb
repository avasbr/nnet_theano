{
 "cells": [
  {
   "cell_type": "code",
   "execution_count": 20,
   "metadata": {
    "collapsed": false
   },
   "outputs": [],
   "source": [
    "from hyperopt import hp\n",
    "from hyperopt.pyll.stochastic import sample\n",
    "from math import log"
   ]
  },
  {
   "cell_type": "code",
   "execution_count": 43,
   "metadata": {
    "collapsed": false
   },
   "outputs": [
    {
     "data": {
      "text/plain": [
       "{'mln_params': ({'arch': (19.0,)},\n",
       "  {'l1_reg': 0.0022512814271359012},\n",
       "  {'l2_reg': 1.0362276138845081}),\n",
       " 'optim_params': ({'learn_rate': 0.8673858561486274},\n",
       "  {'rho': 0.6542634453039271},\n",
       "  {'num_epochs': 22.0},\n",
       "  {'batch_size': 442.0},\n",
       "  {'init_method': 'fan-io'},\n",
       "  {'scale_factor': 0.8317983892400194})}"
      ]
     },
     "execution_count": 43,
     "metadata": {},
     "output_type": "execute_result"
    }
   ],
   "source": [
    "# Old-net configuration\n",
    "min_layers = 1\n",
    "max_layers = 3\n",
    "\n",
    "# sets up the neural network\n",
    "nnets = [None] * (max_layers - min_layers + 1)\n",
    "\n",
    "for i, num_layers in enumerate(range(min_layers, max_layers + 1)):\n",
    "    num_hids = [None] * num_layers\n",
    "    for j in range(num_layers):\n",
    "        num_hids[j] = hp.qloguniform(\n",
    "            'num_hid_%i%i' % (i, j), log(10), log(100), 1)\n",
    "\n",
    "    nnets[i] = num_hids\n",
    "\n",
    "# define the hyperparamater space to search\n",
    "hyperspace = {'mln_params': [\n",
    "    {'arch': hp.choice('arch', nnets)},           \n",
    "    {'l1_reg': hp.choice(\n",
    "        'l1_lambda', [None, hp.loguniform('l1_decay', log(1e-5), log(10))])},\n",
    "    {'l2_reg': hp.choice(\n",
    "        'l2_lambda', [None, hp.loguniform('l2_decay', log(1e-5), log(10))])},\n",
    "],\n",
    "    'optim_params': [\n",
    "    {'learn_rate': hp.uniform('learn_rate', 0, 1)},\n",
    "    {'rho': hp.uniform('rho', 0, 1)},\n",
    "    {'num_epochs': hp.qloguniform(\n",
    "        'num_epochs', log(10), log(1e4), 1)},\n",
    "    {'batch_size': hp.quniform('batch_size', 128, 1024, 1)},\n",
    "    {'init_method': hp.choice(\n",
    "        'init_method', ['gauss', 'fan-io'])},\n",
    "    {'scale_factor': hp.uniform(\n",
    "        'scale_factor', 0, 1)}\n",
    "]\n",
    "}\n",
    "sample(hyperspace)"
   ]
  },
  {
   "cell_type": "code",
   "execution_count": 58,
   "metadata": {
    "collapsed": false
   },
   "outputs": [
    {
     "data": {
      "text/plain": [
       "{'mln_params': ({'arch': (911.0, 197.0)},\n",
       "  {'input_p': 0.12245422200965772},\n",
       "  {'hidden_p': 0.5798463881590056},\n",
       "  {'l1_reg': None},\n",
       "  {'l2_reg': 0.0001110013128202787}),\n",
       " 'optim_params': ({'learn_rate': 0.6771010571012288},\n",
       "  {'rho': 0.05746754759777928},\n",
       "  {'num_epochs': 913.0},\n",
       "  {'batch_size': 740.0},\n",
       "  {'scale_factor': 0.2111965350519508})}"
      ]
     },
     "execution_count": 58,
     "metadata": {},
     "output_type": "execute_result"
    }
   ],
   "source": [
    "# Force at least 2 layers, cuz we're modern\n",
    "min_layers = 2\n",
    "max_layers = 3\n",
    "\n",
    "# sets up the neural network\n",
    "nnets = [None] * (max_layers - min_layers + 1)\n",
    "\n",
    "for i, num_layers in enumerate(range(min_layers, max_layers + 1)):\n",
    "    num_hids = [None] * num_layers\n",
    "    for j in range(num_layers):\n",
    "        num_hids[j] = hp.qloguniform(\n",
    "            'num_hid_%i%i' % (i, j), log(100), log(1000), 1)\n",
    "\n",
    "    nnets[i] = num_hids\n",
    "\n",
    "# define the hyperparamater space to search\n",
    "hyperspace = ({'mln_params': [\n",
    "    {'arch': hp.choice('arch', nnets)},\n",
    "    {'input_p': hp.uniform('ip', 0, 1)},\n",
    "    {'hidden_p': hp.uniform('hp', 0, 1)},\n",
    "    {'l1_reg': hp.choice(\n",
    "        'l1_lambda', [None, hp.loguniform('l1_decay', log(1e-5), log(10))])},\n",
    "    {'l2_reg': hp.choice(\n",
    "        'l2_lambda', [None, hp.loguniform('l2_decay', log(1e-5), log(10))])},\n",
    "],\n",
    "    'optim_params': [\n",
    "    {'learn_rate': hp.uniform('learn_rate', 0, 1)},\n",
    "    {'rho': hp.uniform('rho', 0, 1)},\n",
    "    {'num_epochs': hp.qloguniform(\n",
    "        'num_epochs', log(1e2), log(2000), 1)},\n",
    "    {'batch_size': hp.quniform('batch_size', 128, 1024, 1)},\n",
    "    {'scale_factor': hp.uniform(\n",
    "        'scale_factor', 0, 1)}\n",
    "]\n",
    "})\n",
    "sample(hyperspace)"
   ]
  },
  {
   "cell_type": "code",
   "execution_count": null,
   "metadata": {
    "collapsed": true
   },
   "outputs": [],
   "source": []
  }
 ],
 "metadata": {
  "kernelspec": {
   "display_name": "Python 2",
   "language": "python",
   "name": "python2"
  },
  "language_info": {
   "codemirror_mode": {
    "name": "ipython",
    "version": 2
   },
   "file_extension": ".py",
   "mimetype": "text/x-python",
   "name": "python",
   "nbconvert_exporter": "python",
   "pygments_lexer": "ipython2",
   "version": "2.7.5+"
  }
 },
 "nbformat": 4,
 "nbformat_minor": 0
}
