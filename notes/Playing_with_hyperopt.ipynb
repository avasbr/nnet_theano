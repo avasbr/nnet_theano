{
 "metadata": {
  "name": "",
  "signature": "sha256:13b4732517f059f62fb5ca643acd5daafd0a64fc205334e1cd76f2ebd751cbe8"
 },
 "nbformat": 3,
 "nbformat_minor": 0,
 "worksheets": [
  {
   "cells": [
    {
     "cell_type": "code",
     "collapsed": false,
     "input": [
      "from hyperopt import hp\n",
      "from hyperopt.pyll.stochastic import sample\n",
      "from math import log\n",
      "\n",
      "# nested space\n",
      "nested_space = [\n",
      "{'a':hp.uniform('a',0,1)},\n",
      "{'b':hp.loguniform('b',0,1)},\n",
      "hp.randint('r',10)\n",
      "]\n"
     ],
     "language": "python",
     "metadata": {},
     "outputs": [],
     "prompt_number": 28
    },
    {
     "cell_type": "code",
     "collapsed": false,
     "input": [
      "# Multilayer nnet spaces\n",
      "max_layers = 5\n",
      "nnet_space = []\n",
      "\n",
      "for num_layers in range(1,max_layers):\n",
      "    activ = []\n",
      "    num_hid = {}\n",
      "    # set the activation function choice per layer\n",
      "    for i in range(num_layers):\n",
      "        activ.append({'activ_layer_%i'%i:hp.choice('activ_layer',['sigmoid','reLU'])})\n",
      "        num_hid['num_hid_%i'%i] = hp.qloguniform('num_hid',log(10),log(10000),1)\n",
      "    \n",
      "    nnet_space.append([\n",
      "        activ,\n",
      "        num_hid,\n",
      "        {'l1_decay':hp.choice('l1_decay',[\n",
      "                                    0.0,\n",
      "                                    hp.loguniform('l1',log(1e6),2.)\n",
      "                                ])\n",
      "        },\n",
      "        \n",
      "        {'l2_decay':hp.choice('l2_decay',[\n",
      "                                    0.0,\n",
      "                                    hp.loguniform('l2',log(1e-6),2.)\n",
      "                                ])\n",
      "        },\n",
      "        \n",
      "        {'init_method':hp.choice('method',[\n",
      "                                'gauss',\n",
      "                                'fan-io'\n",
      "                                ])\n",
      "        },\n",
      "\n",
      "        {'scale_factor':hp.loguniform('value',log(1e-3),log(1))},\n",
      "        {'dropout': hp.choice('dropout',[\n",
      "                                    None,\n",
      "                                    {'input_p':hp.uniform('i_p',0,1),'input_h':hp.uniform('h_p',0,1)}\n",
      "                                    ])\n",
      "         }\n",
      "    ])\n",
      "\n",
      "sample(nnet_space[1])   "
     ],
     "language": "python",
     "metadata": {},
     "outputs": [
      {
       "metadata": {},
       "output_type": "pyout",
       "prompt_number": 58,
       "text": [
        "(({'activ_layer_0': 'reLU'}, {'activ_layer_1': 'sigmoid'}),\n",
        " {'num_hid_0': 576.0, 'num_hid_1': 91.0},\n",
        " {'l1_decay': 0.0},\n",
        " {'l2_decay': 0.09579788528540878},\n",
        " {'init_method': 'gauss'},\n",
        " {'scale_factor': 0.806701527159678},\n",
        " {'dropout': None})"
       ]
      }
     ],
     "prompt_number": 58
    },
    {
     "cell_type": "code",
     "collapsed": false,
     "input": [
      "sample(nested_space)"
     ],
     "language": "python",
     "metadata": {},
     "outputs": [
      {
       "metadata": {},
       "output_type": "pyout",
       "prompt_number": 53,
       "text": [
        "({'a': 0.30992212663430607}, {'b': 1.8859665269690489}, array(9))"
       ]
      }
     ],
     "prompt_number": 53
    },
    {
     "cell_type": "code",
     "collapsed": false,
     "input": [
      "# test\n",
      "space = [\n",
      "hp.choice('activ_layer_1',[['sigmoid'],['reLU']]),\n",
      "hp.choice('activ_layer_2',[['sigmoid'],['reLU']])\n",
      "]"
     ],
     "language": "python",
     "metadata": {},
     "outputs": [],
     "prompt_number": 16
    },
    {
     "cell_type": "code",
     "collapsed": false,
     "input": [
      "sample(space)"
     ],
     "language": "python",
     "metadata": {},
     "outputs": [
      {
       "metadata": {},
       "output_type": "pyout",
       "prompt_number": 25,
       "text": [
        "(('sigmoid',), ('sigmoid',))"
       ]
      }
     ],
     "prompt_number": 25
    },
    {
     "cell_type": "code",
     "collapsed": false,
     "input": [],
     "language": "python",
     "metadata": {},
     "outputs": []
    }
   ],
   "metadata": {}
  }
 ]
}