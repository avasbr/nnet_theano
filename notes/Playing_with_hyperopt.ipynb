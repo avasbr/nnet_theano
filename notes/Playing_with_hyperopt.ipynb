{
 "cells": [
  {
   "cell_type": "code",
   "execution_count": 3,
   "metadata": {
    "collapsed": false
   },
   "outputs": [],
   "source": [
    "from hyperopt import hp\n",
    "from hyperopt.pyll.stochastic import sample\n",
    "from math import log"
   ]
  },
  {
   "cell_type": "code",
   "execution_count": 42,
   "metadata": {
    "collapsed": false
   },
   "outputs": [
    {
     "data": {
      "text/plain": [
       "({'mln_params': ({'activs': {'activ_0': 'sigmoid',\n",
       "     'activ_1': 'reLU',\n",
       "     'activ_2': 'reLU'}},\n",
       "   {'num_hids': {'num_hid_0': 308.0, 'num_hid_1': 572.0, 'num_hid_2': 206.0}},\n",
       "   {'l1_reg': {'l1_decay': 0.00027217662261271014}},\n",
       "   {'l2_reg': None},\n",
       "   {'dropout': None})},\n",
       " {'optim_params': ({'init_method': 'fan-io'},\n",
       "   {'scale_factor': 0.107560700518889},\n",
       "   {'rho': 0.6125087183952216},\n",
       "   {'learn_rate': 2.0104098015559164},\n",
       "   {'batch_size': 209.0},\n",
       "   {'num_epochs': 23.0})})"
      ]
     },
     "execution_count": 42,
     "metadata": {},
     "output_type": "execute_result"
    }
   ],
   "source": [
    "# Multilayer nnet spaces\n",
    "max_layers = 4\n",
    "hyperspace = []\n",
    "\n",
    "# sets up the neural network\n",
    "for num_layers in range(1,max_layers):\n",
    "    activs = {}\n",
    "    num_hids = {}\n",
    "\n",
    "    # set the activation function choice per layer\n",
    "    for i in range(num_layers):\n",
    "        activs['activ_%i'%i] = hp.choice('activ',['sigmoid','reLU'])\n",
    "        num_hids['num_hid_%i'%i] = hp.qloguniform('num_hid',log(10),log(1000),1)\n",
    "    \n",
    "    hyperspace.append([\n",
    "        {'mln_params':[{'activs':activs},\n",
    "                       {'num_hids':num_hids},\n",
    "                       {'l1_reg':hp.choice('l1_choice',\n",
    "                       \t[\n",
    "                    \t \tNone, \n",
    "                         \t{'l1_decay':hp.loguniform('lambda',log(1e-5),log(10.))}\n",
    "                     \t])\n",
    "                       },\n",
    "                \t   \n",
    "                \t   {'l2_reg':hp.choice('l2_choice',\n",
    "                \t   \t[\n",
    "                \t\t \tNone, \n",
    "                \t\t \t{'l2_decay':hp.loguniform('lambda',log(1e-5),log(10.))}\n",
    "            \t\t \t])\n",
    "                \t   },\n",
    "\n",
    "                       {'dropout': hp.choice('dropout',\n",
    "                       \t[\n",
    "                       \t\tNone, \n",
    "                    \t \t{'input_p':hp.uniform('ip',0,1),'hidden_p':hp.uniform('hp',0,1)}\n",
    "                \t \t])\n",
    "                       }\n",
    "                      ]\n",
    "        },\n",
    "        {'optim_params':[{'init_method':hp.choice('method',\n",
    "    \t\t\t\t\t\t[\n",
    "    \t\t\t\t\t\t\t'gauss',\n",
    "    \t\t\t\t\t\t\t'fan-io'\n",
    "    \t\t\t\t\t\t])\n",
    "        \t\t\t\t },\n",
    "                        {'scale_factor':hp.loguniform('value',log(1e-3),log(1))},\n",
    "                        {'rho':hp.uniform('rho',1e-2,0.99)},\n",
    "                        {'learn_rate':hp.loguniform('learn_rate',log(1e-4),log(10))},\n",
    "                        {'batch_size':hp.quniform('batch_size',128,1000,1)},\n",
    "                        {'num_epochs':hp.qloguniform('num_epochs',log(10),log(1e3),1)}]\n",
    "         }\n",
    "    ])\n",
    "\n",
    "full_space = hp.choice('params',[hyperspace[i-1] for i in range(1,max_layers)])\n",
    "sample(full_space)"
   ]
  },
  {
   "cell_type": "code",
   "execution_count": 29,
   "metadata": {
    "collapsed": false
   },
   "outputs": [
    {
     "name": "stdout",
     "output_type": "stream",
     "text": [
      "{'num_hids': {'num_hid_0': 158.0, 'num_hid_1': 317.0}, 'activ_fns': ({'activ_fn_0': 'sigmoid'}, {'activ_fn_1': 'sigmoid'}), 'l1_decay': 0.10323661411876736, 'l2_decay': 0.0}\n",
      "{'init_method': 'fan-io', 'scale_factor': 0.29352227114962254, 'rho': 0.16125144104294123, 'learn_rate': 0.5195882631000931, 'dropout': {'input_h': 0.2290187233429285, 'input_p': 0.07241995733571027}, 'batch_size': 816.0088150390714}\n"
     ]
    }
   ],
   "source": [
    "sampled_hyperspace = sample(full_space)\n",
    "sampled_mln_params = {}\n",
    "sampled_optim_params = {}\n",
    "for param_type in sampled_hyperspace:\n",
    "    if 'mln_params' in param_type:\n",
    "        for d in param_type['mln_params']: sampled_mln_params.update(d)\n",
    "    elif 'optim_params' in param_type:\n",
    "        for d in param_type['optim_params']: sampled_optim_params.update(d)\n",
    "\n",
    "print sampled_mln_params\n",
    "print sampled_optim_params\n",
    "                "
   ]
  },
  {
   "cell_type": "code",
   "execution_count": 16,
   "metadata": {
    "collapsed": false
   },
   "outputs": [],
   "source": [
    "# test\n",
    "space = [\n",
    "hp.choice('activ_layer_1',[['sigmoid'],['reLU']]),\n",
    "hp.choice('activ_layer_2',[['sigmoid'],['reLU']])\n",
    "]"
   ]
  },
  {
   "cell_type": "code",
   "execution_count": 25,
   "metadata": {
    "collapsed": false
   },
   "outputs": [
    {
     "data": {
      "text/plain": [
       "(('sigmoid',), ('sigmoid',))"
      ]
     },
     "execution_count": 25,
     "metadata": {},
     "output_type": "execute_result"
    }
   ],
   "source": [
    "sample(space)"
   ]
  },
  {
   "cell_type": "code",
   "execution_count": null,
   "metadata": {
    "collapsed": false
   },
   "outputs": [],
   "source": []
  }
 ],
 "metadata": {
  "kernelspec": {
   "display_name": "Python 2",
   "language": "python",
   "name": "python2"
  },
  "language_info": {
   "codemirror_mode": {
    "name": "ipython",
    "version": 2
   },
   "file_extension": ".py",
   "mimetype": "text/x-python",
   "name": "python",
   "nbconvert_exporter": "python",
   "pygments_lexer": "ipython2",
   "version": "2.7.3"
  }
 },
 "nbformat": 4,
 "nbformat_minor": 0
}
