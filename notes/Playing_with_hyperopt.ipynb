{
 "metadata": {
  "name": "",
  "signature": "sha256:392ce360a69126f91b87fb3a0a07f86b34c89382bf42dc7890326f5d0629641f"
 },
 "nbformat": 3,
 "nbformat_minor": 0,
 "worksheets": [
  {
   "cells": [
    {
     "cell_type": "code",
     "collapsed": false,
     "input": [
      "from hyperopt import hp\n",
      "from hyperopt.pyll.stochastic import sample\n",
      "\n",
      "# nested space\n",
      "nested_space = [\n",
      "{'a':hp.uniform('a',0,1)},\n",
      "{'b':hp.loguniform('b',0,1)},\n",
      "hp.randint('r',10)\n",
      "]\n"
     ],
     "language": "python",
     "metadata": {},
     "outputs": [],
     "prompt_number": 26
    },
    {
     "cell_type": "code",
     "collapsed": false,
     "input": [
      "# Multilayer nnet spaces\n",
      "max_layers = 5\n",
      "nnet_space = []\n",
      "for num_layers in range(1,max_layers):\n",
      "    activ = []\n",
      "    num_hid = {}\n",
      "    # set the activation function choice per layer\n",
      "    for i in range(num_layers):\n",
      "        activ.append(hp.choice('activ_layer_%i'%i,[['sigmoid'],['reLU']]))\n",
      "        num_hid['num_hid_%i'%i] = hp.qloguniform('num_hid',log(10),log(10000),1)\n",
      "    \n",
      "    nnet_space.append(\n",
      "        hp.choice('l1_decay',[0,hp.loguniform('l1',log(1e6),2.)]),\n",
      "        hp.choice('l2_decay',[0,hp.loguniform('l2',log(1e6),2.)]),\n",
      "        hp.choice('init_method',['gauss','fan-io']),\n",
      "        hp.loguniform('scale_factor',log(1e-3),log(1)),\n",
      "    )\n",
      "        \n",
      "\n"
     ],
     "language": "python",
     "metadata": {},
     "outputs": [
      {
       "output_type": "stream",
       "stream": "stdout",
       "text": [
        "({'a': 0.6454033456910573, 'case': 1}, {'case': 2, 'b': 1.516766230712939}, array(7))\n"
       ]
      }
     ],
     "prompt_number": 9
    },
    {
     "cell_type": "code",
     "collapsed": false,
     "input": [
      "sample(nested_space)"
     ],
     "language": "python",
     "metadata": {},
     "outputs": [
      {
       "metadata": {},
       "output_type": "pyout",
       "prompt_number": 13,
       "text": [
        "({'a': 0.7600140850688202}, {'b': 2.013983649291998}, array(7))"
       ]
      }
     ],
     "prompt_number": 13
    },
    {
     "cell_type": "code",
     "collapsed": false,
     "input": [
      "# test\n",
      "space = [\n",
      "hp.choice('activ_layer_1',[['sigmoid'],['reLU']]),\n",
      "hp.choice('activ_layer_2',[['sigmoid'],['reLU']])\n",
      "]"
     ],
     "language": "python",
     "metadata": {},
     "outputs": [],
     "prompt_number": 16
    },
    {
     "cell_type": "code",
     "collapsed": false,
     "input": [
      "sample(space)"
     ],
     "language": "python",
     "metadata": {},
     "outputs": [
      {
       "metadata": {},
       "output_type": "pyout",
       "prompt_number": 25,
       "text": [
        "(('sigmoid',), ('sigmoid',))"
       ]
      }
     ],
     "prompt_number": 25
    },
    {
     "cell_type": "code",
     "collapsed": false,
     "input": [],
     "language": "python",
     "metadata": {},
     "outputs": []
    }
   ],
   "metadata": {}
  }
 ]
}