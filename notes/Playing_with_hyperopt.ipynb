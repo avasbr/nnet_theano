{
 "cells": [
  {
   "cell_type": "code",
   "execution_count": 2,
   "metadata": {
    "collapsed": false
   },
   "outputs": [],
   "source": [
    "from hyperopt import hp, fmin, tpe, space_eval\n",
    "from hyperopt.pyll.stochastic import sample\n",
    "from math import log"
   ]
  },
  {
   "cell_type": "code",
   "execution_count": 43,
   "metadata": {
    "collapsed": false
   },
   "outputs": [
    {
     "data": {
      "text/plain": [
       "{'mln_params': ({'arch': (19.0,)},\n",
       "  {'l1_reg': 0.0022512814271359012},\n",
       "  {'l2_reg': 1.0362276138845081}),\n",
       " 'optim_params': ({'learn_rate': 0.8673858561486274},\n",
       "  {'rho': 0.6542634453039271},\n",
       "  {'num_epochs': 22.0},\n",
       "  {'batch_size': 442.0},\n",
       "  {'init_method': 'fan-io'},\n",
       "  {'scale_factor': 0.8317983892400194})}"
      ]
     },
     "execution_count": 43,
     "metadata": {},
     "output_type": "execute_result"
    }
   ],
   "source": [
    "# Old-net configuration\n",
    "min_layers = 1\n",
    "max_layers = 3\n",
    "\n",
    "# sets up the neural network\n",
    "nnets = [None] * (max_layers - min_layers + 1)\n",
    "\n",
    "for i, num_layers in enumerate(range(min_layers, max_layers + 1)):\n",
    "    num_hids = [None] * num_layers\n",
    "    for j in range(num_layers):\n",
    "        num_hids[j] = hp.qloguniform(\n",
    "            'num_hid_%i%i' % (i, j), log(10), log(100), 1)\n",
    "\n",
    "    nnets[i] = num_hids\n",
    "\n",
    "# define the hyperparamater space to search\n",
    "hyperspace = {'mln_params': [\n",
    "    {'arch': hp.choice('arch', nnets)},           \n",
    "    {'l1_reg': hp.choice(\n",
    "        'l1_lambda', [None, hp.loguniform('l1_decay', log(1e-5), log(10))])},\n",
    "    {'l2_reg': hp.choice(\n",
    "        'l2_lambda', [None, hp.loguniform('l2_decay', log(1e-5), log(10))])},\n",
    "],\n",
    "    'optim_params': [\n",
    "    {'learn_rate': hp.uniform('learn_rate', 0, 1)},\n",
    "    {'rho': hp.uniform('rho', 0, 1)},\n",
    "    {'num_epochs': hp.qloguniform(\n",
    "        'num_epochs', log(10), log(1e4), 1)},\n",
    "    {'batch_size': hp.quniform('batch_size', 128, 1024, 1)},\n",
    "    {'init_method': hp.choice(\n",
    "        'init_method', ['gauss', 'fan-io'])},\n",
    "    {'scale_factor': hp.uniform(\n",
    "        'scale_factor', 0, 1)}\n",
    "]\n",
    "}\n",
    "sample(hyperspace)"
   ]
  },
  {
   "cell_type": "code",
   "execution_count": 62,
   "metadata": {
    "collapsed": false
   },
   "outputs": [
    {
     "data": {
      "text/plain": [
       "{'mln_params': ({'arch': (812.0, 234.0)},\n",
       "  {'input_p': 0.882908327943932},\n",
       "  {'hidden_p': 0.047493794381396115},\n",
       "  {'l1_reg': None},\n",
       "  {'l2_reg': 0.009801015366450113}),\n",
       " 'optim_params': ({'learn_rate': 0.9864581984539547},\n",
       "  {'rho': 0.26708194578840005},\n",
       "  {'num_epochs': 865.0},\n",
       "  {'batch_size': 828.0},\n",
       "  {'scale_factor': 0.5838919196352292})}"
      ]
     },
     "execution_count": 62,
     "metadata": {},
     "output_type": "execute_result"
    }
   ],
   "source": [
    "# Force at least 2 layers, cuz we're modern\n",
    "min_layers = 2\n",
    "max_layers = 3\n",
    "\n",
    "# sets up the neural network\n",
    "nnets = [None] * (max_layers - min_layers + 1)\n",
    "\n",
    "for i, num_layers in enumerate(range(min_layers, max_layers + 1)):\n",
    "    num_hids = [None] * num_layers\n",
    "    for j in range(num_layers):\n",
    "        num_hids[j] = hp.qloguniform(\n",
    "            'num_hid_%i%i' % (i, j), log(100), log(1000), 1)\n",
    "\n",
    "    nnets[i] = num_hids\n",
    "\n",
    "# define the hyperparamater space to search\n",
    "hyperspace = ({'mln_params': [\n",
    "    {'arch': hp.choice('arch', nnets)},\n",
    "    {'input_p': hp.uniform('ip', 0, 1)},\n",
    "    {'hidden_p': hp.uniform('hp', 0, 1)},\n",
    "    {'l1_reg': hp.choice(\n",
    "        'l1_lambda', [None, hp.loguniform('l1_decay', log(1e-5), log(10))])},\n",
    "    {'l2_reg': hp.choice(\n",
    "        'l2_lambda', [None, hp.loguniform('l2_decay', log(1e-5), log(10))])},\n",
    "],\n",
    "    'optim_params': [\n",
    "    {'learn_rate': hp.uniform('learn_rate', 0, 1)},\n",
    "    {'rho': hp.uniform('rho', 0, 1)},\n",
    "    {'num_epochs': hp.qloguniform(\n",
    "        'num_epochs', log(1e2), log(2000), 1)},\n",
    "    {'batch_size': hp.quniform('batch_size', 128, 1024, 1)},\n",
    "    {'scale_factor': hp.uniform(\n",
    "        'scale_factor', 0, 1)}\n",
    "]\n",
    "})\n",
    "sample(hyperspace)"
   ]
  },
  {
   "cell_type": "code",
   "execution_count": 90,
   "metadata": {
    "collapsed": false
   },
   "outputs": [
    {
     "name": "stdout",
     "output_type": "stream",
     "text": [
      "{'y': 0, 'x': 0.004251807848178524}\n"
     ]
    }
   ],
   "source": [
    "hyperspace = ({'x_value':hp.uniform('x',-1,1),'y_value':hp.choice('y', [0.0001,hp.uniform('this_y',-1,1)])})\n",
    "\n",
    "def objective_fn(space):\n",
    "    x = space['x_value']\n",
    "    y = space['y_value']\n",
    "    return x**2 + y**2\n",
    "\n",
    "best = fmin(objective_fn,hyperspace,algo=tpe.suggest,max_evals=100)\n",
    "print best"
   ]
  },
  {
   "cell_type": "code",
   "execution_count": 5,
   "metadata": {
    "collapsed": false
   },
   "outputs": [
    {
     "name": "stdout",
     "output_type": "stream",
     "text": [
      "{'y': -0.04528889837688501, 'x': 0.016277551583606824}\n",
      "{'y': -0.04528889837688501, 'x': 0.016277551583606824}\n"
     ]
    }
   ],
   "source": [
    "# proof that the 'space' you pass into the objective function can be a combination of default and learnable parameters\n",
    "hyperspace_v1 = {'x':hp.uniform('x',-1,1),'y':hp.uniform('y',-1,1)}\n",
    "hyperspace_v2 = {'x':hp.uniform('x',-1,1),'y':hp.uniform('y',-1,1), 'z':5}\n",
    "\n",
    "def objective_fn_v1(space):\n",
    "    x = space['x']\n",
    "    y = space['y']\n",
    "    return x**2 + y**2\n",
    "\n",
    "def objective_fn_v2(space):\n",
    "    x = space['x']\n",
    "    y = space['y']\n",
    "    z = space['z']\n",
    "    return x**2 + y**2 + z\n",
    "\n",
    "best_v1 = fmin(objective_fn_v1,hyperspace_v1,algo=tpe.suggest,max_evals=100)\n",
    "best_v2 = fmin(objective_fn_v2,hyperspace_v2,algo=tpe.suggest,max_evals=100)\n",
    "print best_v1\n",
    "print best_v2"
   ]
  },
  {
   "cell_type": "code",
   "execution_count": null,
   "metadata": {
    "collapsed": true
   },
   "outputs": [],
   "source": []
  }
 ],
 "metadata": {
  "kernelspec": {
   "display_name": "Python 2",
   "language": "python",
   "name": "python2"
  },
  "language_info": {
   "codemirror_mode": {
    "name": "ipython",
    "version": 2
   },
   "file_extension": ".py",
   "mimetype": "text/x-python",
   "name": "python",
   "nbconvert_exporter": "python",
   "pygments_lexer": "ipython2",
   "version": "2.7.3"
  }
 },
 "nbformat": 4,
 "nbformat_minor": 0
}
