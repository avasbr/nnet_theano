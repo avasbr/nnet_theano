{
 "cells": [
  {
   "cell_type": "code",
   "execution_count": 14,
   "metadata": {
    "collapsed": false
   },
   "outputs": [],
   "source": [
    "from hyperopt import hp\n",
    "from hyperopt.pyll.stochastic import sample\n",
    "from math import log"
   ]
  },
  {
   "cell_type": "code",
   "execution_count": 26,
   "metadata": {
    "collapsed": false
   },
   "outputs": [
    {
     "data": {
      "text/plain": [
       "({'mln_params': ({'activ_fns': ({'activ_fn_0': 'reLU'},)},\n",
       "   {'num_hids': {'num_hid_0': 64.0}},\n",
       "   {'l1_decay': 0.0},\n",
       "   {'l2_decay': 0.0})},\n",
       " {'optim_params': ({'init_method': 'gauss'},\n",
       "   {'scale_factor': 0.04748200355724364},\n",
       "   {'rho': 0.6142127128166185},\n",
       "   {'learn_rate': 4.2154943209592926},\n",
       "   {'dropout': {'input_h': 0.010747837401476223,\n",
       "     'input_p': 0.37964484315862435}},\n",
       "   {'batch_size': 324.1980229313662})})"
      ]
     },
     "execution_count": 26,
     "metadata": {},
     "output_type": "execute_result"
    }
   ],
   "source": [
    "# Multilayer nnet spaces\n",
    "max_layers = 4\n",
    "hyperspace = []\n",
    "\n",
    "# sets up the neural network\n",
    "for num_layers in range(1,max_layers):\n",
    "    activ = []\n",
    "    num_hid = {}\n",
    "    # set the activation function choice per layer\n",
    "    for i in range(num_layers):\n",
    "        activ.append({'activ_fn_%i'%i:hp.choice('activ_layer',['sigmoid','reLU'])})\n",
    "        num_hid['num_hid_%i'%i] = hp.qloguniform('num_hid',log(10),log(1000),1)\n",
    "    \n",
    "    hyperspace.append([\n",
    "        {'mln_params':[{'activ_fns':activ},\n",
    "                    {'num_hids':num_hid},\n",
    "                    {'l1_decay':hp.choice('l1_decay',[0.0,hp.loguniform('l1',log(1e-6),2.)])},\n",
    "                    {'l2_decay':hp.choice('l2_decay',[0.0,hp.loguniform('l2',log(1e-6),2.)])}]\n",
    "        },\n",
    "        {'optim_params':[{'init_method':hp.choice('method',['gauss','fan-io'])},\n",
    "                        {'scale_factor':hp.loguniform('value',log(1e-3),log(1))},\n",
    "                        {'rho':hp.uniform('rho',1e-2,0.99)},\n",
    "                        {'learn_rate':hp.loguniform('learn_rate',log(1e-4),log(10))},\n",
    "                        {'dropout': hp.choice('dropout',[None,{'input_p':hp.uniform('ip',0,1),'input_h':hp.uniform('hp',0,1)}])},\n",
    "                        {'batch_size':hp.uniform('batch_size',128,1000)}]\n",
    "         }\n",
    "    ])\n",
    "\n",
    "full_space = hp.choice('params',[hyperspace[i-1] for i in range(1,max_layers)])\n",
    "sample(full_space)"
   ]
  },
  {
   "cell_type": "code",
   "execution_count": 29,
   "metadata": {
    "collapsed": false
   },
   "outputs": [
    {
     "name": "stdout",
     "output_type": "stream",
     "text": [
      "{'num_hids': {'num_hid_0': 158.0, 'num_hid_1': 317.0}, 'activ_fns': ({'activ_fn_0': 'sigmoid'}, {'activ_fn_1': 'sigmoid'}), 'l1_decay': 0.10323661411876736, 'l2_decay': 0.0}\n",
      "{'init_method': 'fan-io', 'scale_factor': 0.29352227114962254, 'rho': 0.16125144104294123, 'learn_rate': 0.5195882631000931, 'dropout': {'input_h': 0.2290187233429285, 'input_p': 0.07241995733571027}, 'batch_size': 816.0088150390714}\n"
     ]
    }
   ],
   "source": [
    "sampled_hyperspace = sample(full_space)\n",
    "sampled_mln_params = {}\n",
    "sampled_optim_params = {}\n",
    "for param_type in sampled_hyperspace:\n",
    "    if 'mln_params' in param_type:\n",
    "        for d in param_type['mln_params']: sampled_mln_params.update(d)\n",
    "    elif 'optim_params' in param_type:\n",
    "        for d in param_type['optim_params']: sampled_optim_params.update(d)\n",
    "\n",
    "print sampled_mln_params\n",
    "print sampled_optim_params\n",
    "                "
   ]
  },
  {
   "cell_type": "code",
   "execution_count": 16,
   "metadata": {
    "collapsed": false
   },
   "outputs": [],
   "source": [
    "# test\n",
    "space = [\n",
    "hp.choice('activ_layer_1',[['sigmoid'],['reLU']]),\n",
    "hp.choice('activ_layer_2',[['sigmoid'],['reLU']])\n",
    "]"
   ]
  },
  {
   "cell_type": "code",
   "execution_count": 25,
   "metadata": {
    "collapsed": false
   },
   "outputs": [
    {
     "data": {
      "text/plain": [
       "(('sigmoid',), ('sigmoid',))"
      ]
     },
     "execution_count": 25,
     "metadata": {},
     "output_type": "execute_result"
    }
   ],
   "source": [
    "sample(space)"
   ]
  },
  {
   "cell_type": "code",
   "execution_count": null,
   "metadata": {
    "collapsed": false
   },
   "outputs": [],
   "source": []
  }
 ],
 "metadata": {
  "kernelspec": {
   "display_name": "Python 2",
   "language": "python",
   "name": "python2"
  },
  "language_info": {
   "codemirror_mode": {
    "name": "ipython",
    "version": 2
   },
   "file_extension": ".py",
   "mimetype": "text/x-python",
   "name": "python",
   "nbconvert_exporter": "python",
   "pygments_lexer": "ipython2",
   "version": "2.7.3"
  }
 },
 "nbformat": 4,
 "nbformat_minor": 0
}
