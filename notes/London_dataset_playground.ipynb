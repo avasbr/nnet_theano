{
 "metadata": {
  "name": "London_dataset_playground"
 }, 
 "nbformat": 2, 
 "worksheets": [
  {
   "cells": [
    {
     "cell_type": "code", 
     "collapsed": true, 
     "input": [
      "# imports and useful functions", 
      "from deepnet import MultilayerNet as mln", 
      "from deepnet.common import nnetact as na", 
      "from deepnet.common import nnetutils as nu", 
      "import numpy as np", 
      "", 
      "m = 1000", 
      "d = 40", 
      "k = 2", 
      "", 
      "def load_london_dataset(base_path):", 
      "    ''' loads the london kaggle dataset '''", 
      "    X_tr = np.genfromtxt('%s/train.csv'%base_path,delimiter=',')", 
      "    y_tr = np.genfromtxt('%s/trainLabels.csv'%base_path,delimiter=',')", 
      "    X_te = np.genfromtxt('%s/test.csv'%base_path,delimiter=',')", 
      "    ", 
      "    def encode_one_hot(y):", 
      "        y_one_hot = np.zeros((m,k))", 
      "        y_one_hot[range(m),y] = 1", 
      "        return y_one_hot", 
      "    y_oh = encode_one_hot(np.asarray(y_tr,dtype='int32'))", 
      "    ", 
      "    return X_tr,y_oh,X_te", 
      "", 
      "def scale_features(X_in,mu=None,std=None):", 
      "    ''' X_in: m x d '''", 
      "    if mu is None and std is None:", 
      "        mu = np.mean(X_in,axis=0)", 
      "        std = np.std(X_in,axis=0)", 
      "        return (X_in-mu)/std,mu,std", 
      "    else:", 
      "        return (X_in-mu)/std", 
      "    "
     ], 
     "language": "python", 
     "outputs": [], 
     "prompt_number": 8
    }, 
    {
     "cell_type": "code", 
     "collapsed": true, 
     "input": [
      "# load the dataset", 
      "base_path = '/home/avasbr/datasets/kaggle/london_dataset'", 
      "X,y,X_te = load_london_dataset(base_path)"
     ], 
     "language": "python", 
     "outputs": [], 
     "prompt_number": 9
    }, 
    {
     "cell_type": "code", 
     "collapsed": false, 
     "input": [
      "# let's look at the ranges of these values", 
      "print 'Min = ',np.min(X)", 
      "print 'Max = ',np.max(X)", 
      "", 
      "# convert to zero-mean, unit-variance", 
      "X_tr,mu_tr,std_tr = scale_features(X)", 
      "X_te = scale_features(X_te,mu=mu_tr,std=std_tr)"
     ], 
     "language": "python", 
     "outputs": [
      {
       "output_type": "stream", 
       "stream": "stdout", 
       "text": [
        "Min =  -16.4219014729", 
        "Max =  17.5653445056"
       ]
      }
     ], 
     "prompt_number": 10
    }, 
    {
     "cell_type": "code", 
     "collapsed": false, 
     "input": [
      "# split the datase to training and validation", 
      "X_tr,y_tr,X_val,y_val = nu.split_train_val(X,y,0.6)", 
      "print 'Number of training samples:',X_tr.shape[0]", 
      "print 'Number of validation samples:',X_val.shape[0]"
     ], 
     "language": "python", 
     "outputs": [
      {
       "output_type": "stream", 
       "stream": "stdout", 
       "text": [
        "Number of training samples: 600", 
        "Number of validation samples: 400"
       ]
      }
     ], 
     "prompt_number": 11
    }, 
    {
     "cell_type": "code", 
     "collapsed": false, 
     "input": [
      "# Let's build a neural network to classify this stuff", 
      "mln_params = {'d':d,'k':k,'num_hids':[150],'activs':['sigmoid','softmax'],'loss_terms':['cross_entropy','regularization'],'l2_decay':0.01}", 
      "lbfgs_params = {'init_method':'gauss','scale_factor':0.1,'optim_type':'fullbatch','optim_method':'L-BFGS-B','num_epochs':500}", 
      "", 
      "nnet = mln.MultilayerNet(**mln_params)", 
      "nnet.fit(X_tr,y_tr,**lbfgs_params)"
     ], 
     "language": "python", 
     "outputs": [], 
     "prompt_number": 56
    }, 
    {
     "cell_type": "code", 
     "collapsed": false, 
     "input": [
      "# Let's check the performance", 
      "print 100*nnet.score(X_val,y_val),'%'"
     ], 
     "language": "python", 
     "outputs": [
      {
       "output_type": "stream", 
       "stream": "stdout", 
       "text": [
        "86.75 %"
       ]
      }
     ], 
     "prompt_number": 57
    }, 
    {
     "cell_type": "code", 
     "collapsed": true, 
     "input": [
      "# So, this is not bad..but clearly we need to do better than this, "
     ], 
     "language": "python", 
     "outputs": [], 
     "prompt_number": 64
    }, 
    {
     "cell_type": "code", 
     "collapsed": true, 
     "input": [], 
     "language": "python", 
     "outputs": []
    }
   ]
  }
 ]
}