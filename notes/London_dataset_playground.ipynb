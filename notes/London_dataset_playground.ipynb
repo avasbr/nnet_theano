{
 "metadata": {
  "name": "",
  "signature": "sha256:faa8eebbe6f0ecfb61ffbfdfeaddfc8af7fc99b5333f8406002245585abc8af9"
 },
 "nbformat": 3,
 "nbformat_minor": 0,
 "worksheets": [
  {
   "cells": [
    {
     "cell_type": "code",
     "collapsed": true,
     "input": [
      "# imports and useful functions\n",
      "from deepnet import MultilayerNet as mln\n",
      "from deepnet.common import nnetact as na\n",
      "from deepnet.common import nnetutils as nu\n",
      "import numpy as np\n",
      "\n",
      "m = 1000\n",
      "d = 40\n",
      "k = 2\n",
      "\n",
      "def load_london_dataset(base_path):\n",
      "    ''' loads the london kaggle dataset '''\n",
      "    X_tr = np.genfromtxt('%s/train.csv'%base_path,delimiter=',')\n",
      "    y_tr = np.genfromtxt('%s/trainLabels.csv'%base_path,delimiter=',')\n",
      "    X_te = np.genfromtxt('%s/test.csv'%base_path,delimiter=',')\n",
      "    \n",
      "    def encode_one_hot(y):\n",
      "        y_one_hot = np.zeros((m,k))\n",
      "        y_one_hot[range(m),y] = 1\n",
      "        return y_one_hot\n",
      "    y_oh = encode_one_hot(np.asarray(y_tr,dtype='int32'))\n",
      "    \n",
      "    return X_tr,y_oh,X_te\n",
      "\n",
      "def scale_features(X_in,mu=None,std=None):\n",
      "    ''' X_in: m x d '''\n",
      "    if mu is None and std is None:\n",
      "        mu = np.mean(X_in,axis=0)\n",
      "        std = np.std(X_in,axis=0)\n",
      "        return (X_in-mu)/std,mu,std\n",
      "    else:\n",
      "        return (X_in-mu)/std\n",
      "    "
     ],
     "language": "python",
     "metadata": {},
     "outputs": [],
     "prompt_number": 1
    },
    {
     "cell_type": "code",
     "collapsed": true,
     "input": [
      "# load the dataset\n",
      "base_path = '/home/bhargav/datasets/kaggle_data/london/dataset'\n",
      "X,y,X_te = load_london_dataset(base_path)"
     ],
     "language": "python",
     "metadata": {},
     "outputs": [],
     "prompt_number": 2
    },
    {
     "cell_type": "code",
     "collapsed": false,
     "input": [
      "# let's look at the ranges of these values\n",
      "print 'Min = ',np.min(X)\n",
      "print 'Max = ',np.max(X)\n",
      "\n",
      "# convert to zero-mean, unit-variance\n",
      "X_tr,mu_tr,std_tr = scale_features(X)\n",
      "X_te = scale_features(X_te,mu=mu_tr,std=std_tr)"
     ],
     "language": "python",
     "metadata": {},
     "outputs": [
      {
       "output_type": "stream",
       "stream": "stdout",
       "text": [
        "Min =  -16.4219014729\n",
        "Max =  17.5653445056\n"
       ]
      }
     ],
     "prompt_number": 3
    },
    {
     "cell_type": "code",
     "collapsed": false,
     "input": [
      "# split the datase to training and validation\n",
      "X_tr,y_tr,X_val,y_val = nu.split_train_val(X,y,0.6)\n",
      "print 'Number of training samples:',X_tr.shape[0]\n",
      "print 'Number of validation samples:',X_val.shape[0]"
     ],
     "language": "python",
     "metadata": {},
     "outputs": [
      {
       "output_type": "stream",
       "stream": "stdout",
       "text": [
        "Number of training samples: 600\n",
        "Number of validation samples: 400\n"
       ]
      }
     ],
     "prompt_number": 4
    },
    {
     "cell_type": "code",
     "collapsed": false,
     "input": [
      "# Let's build a neural network to classify this stuff\n",
      "mln_params = {'d':d,'k':k,'num_hids':[150],'activs':['sigmoid','softmax'],'loss_terms':['cross_entropy','regularization'],'l2_decay':0.01}\n",
      "lbfgs_params = {'init_method':'gauss','scale_factor':0.1,'optim_type':'fullbatch','optim_method':'L-BFGS-B','num_epochs':500}\n",
      "sgd_params = {'init_method':'gauss','scale_factor':0.1,'optim_type':'minibatch','optim_method':'SGD','batch_size':600,'num_epochs':500,'learn_rate':0.1,'plotting':True}\n",
      "nnet = mln.MultilayerNet(**mln_params)\n",
      "nnet.fit(X_tr,y_tr,**sgd_params)"
     ],
     "language": "python",
     "metadata": {},
     "outputs": [
      {
       "output_type": "stream",
       "stream": "stdout",
       "text": [
        "Epoch: 10, Training error: 0.50596128\n",
        "Epoch: 20, Training error: 0.45432604"
       ]
      },
      {
       "output_type": "stream",
       "stream": "stdout",
       "text": [
        "\n",
        "Epoch: 30, Training error: 0.42924711"
       ]
      },
      {
       "output_type": "stream",
       "stream": "stdout",
       "text": [
        "\n",
        "Epoch: 40, Training error: 0.41402685"
       ]
      },
      {
       "output_type": "stream",
       "stream": "stdout",
       "text": [
        "\n",
        "Epoch: 50, Training error: 0.40376521"
       ]
      },
      {
       "output_type": "stream",
       "stream": "stdout",
       "text": [
        "\n",
        "Epoch: 60, Training error: 0.39633114"
       ]
      },
      {
       "output_type": "stream",
       "stream": "stdout",
       "text": [
        "\n",
        "Epoch: 70, Training error: 0.39063596"
       ]
      },
      {
       "output_type": "stream",
       "stream": "stdout",
       "text": [
        "\n",
        "Epoch: 80, Training error: 0.38607281"
       ]
      },
      {
       "output_type": "stream",
       "stream": "stdout",
       "text": [
        "\n",
        "Epoch: 90, Training error: 0.38228280"
       ]
      },
      {
       "output_type": "stream",
       "stream": "stdout",
       "text": [
        "\n",
        "Epoch: 100, Training error: 0.37904339"
       ]
      },
      {
       "output_type": "stream",
       "stream": "stdout",
       "text": [
        "\n",
        "Epoch: 110, Training error: 0.37621082"
       ]
      },
      {
       "output_type": "stream",
       "stream": "stdout",
       "text": [
        "\n",
        "Epoch: 120, Training error: 0.37368866"
       ]
      },
      {
       "output_type": "stream",
       "stream": "stdout",
       "text": [
        "\n",
        "Epoch: 130, Training error: 0.37140999"
       ]
      },
      {
       "output_type": "stream",
       "stream": "stdout",
       "text": [
        "\n",
        "Epoch: 140, Training error: 0.36932679"
       ]
      },
      {
       "output_type": "stream",
       "stream": "stdout",
       "text": [
        "\n",
        "Epoch: 150, Training error: 0.36740358"
       ]
      },
      {
       "output_type": "stream",
       "stream": "stdout",
       "text": [
        "\n",
        "Epoch: 160, Training error: 0.36561343"
       ]
      },
      {
       "output_type": "stream",
       "stream": "stdout",
       "text": [
        "\n",
        "Epoch: 170, Training error: 0.36393536"
       ]
      },
      {
       "output_type": "stream",
       "stream": "stdout",
       "text": [
        "\n",
        "Epoch: 180, Training error: 0.36235269"
       ]
      },
      {
       "output_type": "stream",
       "stream": "stdout",
       "text": [
        "\n",
        "Epoch: 190, Training error: 0.36085189"
       ]
      },
      {
       "output_type": "stream",
       "stream": "stdout",
       "text": [
        "\n",
        "Epoch: 200, Training error: 0.35942182"
       ]
      },
      {
       "output_type": "stream",
       "stream": "stdout",
       "text": [
        "\n",
        "Epoch: 210, Training error: 0.35805317"
       ]
      },
      {
       "output_type": "stream",
       "stream": "stdout",
       "text": [
        "\n",
        "Epoch: 220, Training error: 0.35673809"
       ]
      },
      {
       "output_type": "stream",
       "stream": "stdout",
       "text": [
        "\n",
        "Epoch: 230, Training error: 0.35546987"
       ]
      },
      {
       "output_type": "stream",
       "stream": "stdout",
       "text": [
        "\n",
        "Epoch: 240, Training error: 0.35424274"
       ]
      },
      {
       "output_type": "stream",
       "stream": "stdout",
       "text": [
        "\n",
        "Epoch: 250, Training error: 0.35305172"
       ]
      },
      {
       "output_type": "stream",
       "stream": "stdout",
       "text": [
        "\n",
        "Epoch: 260, Training error: 0.35189246"
       ]
      },
      {
       "output_type": "stream",
       "stream": "stdout",
       "text": [
        "\n",
        "Epoch: 270, Training error: 0.35076118"
       ]
      },
      {
       "output_type": "stream",
       "stream": "stdout",
       "text": [
        "\n",
        "Epoch: 280, Training error: 0.34965454"
       ]
      },
      {
       "output_type": "stream",
       "stream": "stdout",
       "text": [
        "\n",
        "Epoch: 290, Training error: 0.34856964"
       ]
      },
      {
       "output_type": "stream",
       "stream": "stdout",
       "text": [
        "\n",
        "Epoch: 300, Training error: 0.34750389"
       ]
      },
      {
       "output_type": "stream",
       "stream": "stdout",
       "text": [
        "\n",
        "Epoch: 310, Training error: 0.34645504"
       ]
      },
      {
       "output_type": "stream",
       "stream": "stdout",
       "text": [
        "\n",
        "Epoch: 320, Training error: 0.34542107"
       ]
      },
      {
       "output_type": "stream",
       "stream": "stdout",
       "text": [
        "\n",
        "Epoch: 330, Training error: 0.34440024"
       ]
      },
      {
       "output_type": "stream",
       "stream": "stdout",
       "text": [
        "\n",
        "Epoch: 340, Training error: 0.34339098"
       ]
      },
      {
       "output_type": "stream",
       "stream": "stdout",
       "text": [
        "\n",
        "Epoch: 350, Training error: 0.34239192"
       ]
      },
      {
       "output_type": "stream",
       "stream": "stdout",
       "text": [
        "\n",
        "Epoch: 360, Training error: 0.34140186"
       ]
      },
      {
       "output_type": "stream",
       "stream": "stdout",
       "text": [
        "\n",
        "Epoch: 370, Training error: 0.34041976"
       ]
      },
      {
       "output_type": "stream",
       "stream": "stdout",
       "text": [
        "\n",
        "Epoch: 380, Training error: 0.33944468"
       ]
      },
      {
       "output_type": "stream",
       "stream": "stdout",
       "text": [
        "\n",
        "Epoch: 390, Training error: 0.33847583"
       ]
      },
      {
       "output_type": "stream",
       "stream": "stdout",
       "text": [
        "\n",
        "Epoch: 400, Training error: 0.33751250"
       ]
      },
      {
       "output_type": "stream",
       "stream": "stdout",
       "text": [
        "\n",
        "Epoch: 410, Training error: 0.33655412"
       ]
      },
      {
       "output_type": "stream",
       "stream": "stdout",
       "text": [
        "\n",
        "Epoch: 420, Training error: 0.33560015"
       ]
      },
      {
       "output_type": "stream",
       "stream": "stdout",
       "text": [
        "\n",
        "Epoch: 430, Training error: 0.33465017"
       ]
      },
      {
       "output_type": "stream",
       "stream": "stdout",
       "text": [
        "\n",
        "Epoch: 440, Training error: 0.33370382"
       ]
      },
      {
       "output_type": "stream",
       "stream": "stdout",
       "text": [
        "\n",
        "Epoch: 450, Training error: 0.33276079"
       ]
      },
      {
       "output_type": "stream",
       "stream": "stdout",
       "text": [
        "\n",
        "Epoch: 460, Training error: 0.33182083"
       ]
      },
      {
       "output_type": "stream",
       "stream": "stdout",
       "text": [
        "\n",
        "Epoch: 470, Training error: 0.33088374"
       ]
      },
      {
       "output_type": "stream",
       "stream": "stdout",
       "text": [
        "\n",
        "Epoch: 480, Training error: 0.32994937"
       ]
      },
      {
       "output_type": "stream",
       "stream": "stdout",
       "text": [
        "\n",
        "Epoch: 490, Training error: 0.32901759"
       ]
      },
      {
       "output_type": "stream",
       "stream": "stdout",
       "text": [
        "\n",
        "Epoch: 500, Training error: 0.32808832"
       ]
      },
      {
       "output_type": "stream",
       "stream": "stdout",
       "text": [
        "\n"
       ]
      }
     ],
     "prompt_number": 7
    },
    {
     "cell_type": "code",
     "collapsed": false,
     "input": [
      "# Let's check the performance\n",
      "print 100*nnet.score(X_val,y_val),'%'"
     ],
     "language": "python",
     "metadata": {},
     "outputs": [
      {
       "output_type": "stream",
       "stream": "stdout",
       "text": [
        "82.75 %\n"
       ]
      }
     ],
     "prompt_number": 8
    },
    {
     "cell_type": "code",
     "collapsed": true,
     "input": [
      "# So, this is not bad, but clearly we need to do better than this. Let's use hyperopt to help us choose good hyperparameters,\n",
      "# to see how far we can get:\n",
      "#\n",
      "# 1. # of nodes in the hidden layer\n",
      "# 2. learning rate\n",
      "# 3. regularization coefficient\n",
      "# 4. number of epochs\n",
      "# 5. scale factor\n",
      "# 6. 'gauss' or 'fan-in'\n",
      "\n",
      "\n",
      "# define the cost objective function\n",
      "def obj_func(args):\n",
      "    num_hid,learn_rate,regc,num_epochs,scale_factor,init_method = args\n",
      "    \n",
      "    mln_params = {'d':d,'k':k,'num_hids':[num_hid],'activs':['sigmoid','softmax'],'loss_terms':['cross_entropy','regularization'],'l2_decay':0.01}\n",
      "    sgd_params = {'init_method':init_method,'scale_factor':scale_factor,'optim_type':'minibatch','optim_method':'SGD','batch_size':600,'num_epochs':num_epochs,'learn_rate':learn_rate}\n",
      "    nnet = mln.MultilayerNet(**mln_params)\n",
      "    nnet.fit(X_tr,y_tr,**sgd_params)\n",
      "    \n",
      "    return nnet.score(X_val,y_val)\n"
     ],
     "language": "python",
     "metadata": {},
     "outputs": [
      {
       "ename": "SyntaxError",
       "evalue": "invalid syntax (<ipython-input-9-398e3761260a>, line 7)",
       "output_type": "pyerr",
       "traceback": [
        "\u001b[1;36m  File \u001b[1;32m\"<ipython-input-9-398e3761260a>\"\u001b[1;36m, line \u001b[1;32m7\u001b[0m\n\u001b[1;33m    def obj_func()\u001b[0m\n\u001b[1;37m                  ^\u001b[0m\n\u001b[1;31mSyntaxError\u001b[0m\u001b[1;31m:\u001b[0m invalid syntax\n"
       ]
      }
     ],
     "prompt_number": 9
    },
    {
     "cell_type": "code",
     "collapsed": true,
     "input": [],
     "language": "python",
     "metadata": {},
     "outputs": [],
     "prompt_number": 9
    },
    {
     "cell_type": "code",
     "collapsed": false,
     "input": [
      "#"
     ],
     "language": "python",
     "metadata": {},
     "outputs": []
    }
   ],
   "metadata": {}
  }
 ]
}